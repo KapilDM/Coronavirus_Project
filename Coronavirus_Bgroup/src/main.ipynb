{
 "metadata": {
  "language_info": {
   "codemirror_mode": {
    "name": "ipython",
    "version": 3
   },
   "file_extension": ".py",
   "mimetype": "text/x-python",
   "name": "python",
   "nbconvert_exporter": "python",
   "pygments_lexer": "ipython3",
   "version": "3.9.0-final"
  },
  "orig_nbformat": 2,
  "kernelspec": {
   "name": "python3",
   "display_name": "Python 3.9.0 64-bit",
   "metadata": {
    "interpreter": {
     "hash": "cf88cdeb52cfbd9b7891bd0104565f5c75083759e3ad4e400c6eab5e28be6642"
    }
   }
  }
 },
 "nbformat": 4,
 "nbformat_minor": 2,
 "cells": [
  {
   "source": [
    "# TRABAJO GRUPAL CORONAVIRUS\n",
    "\n",
    "Group B: India, Peru, EEUU, Francia and Spain:\n",
    "\n",
    "Kapil\n",
    "María\n",
    "Juan\n",
    "\n",
    "---------------------"
   ],
   "cell_type": "markdown",
   "metadata": {}
  },
  {
   "cell_type": "code",
   "execution_count": 5,
   "metadata": {},
   "outputs": [],
   "source": [
    "root_path = os.path.dirname(os.getcwd())\n",
    "sys.path.append(root_path)\n",
    "sys.path = list(set(sys.path)) "
   ]
  },
  {
   "cell_type": "code",
   "execution_count": 7,
   "metadata": {},
   "outputs": [],
   "source": [
    "import pandas as pd\n",
    "import numpy as np\n",
    "import sys \n",
    "import os \n",
    "from datetime import datetime"
   ]
  },
  {
   "cell_type": "code",
   "execution_count": 9,
   "metadata": {},
   "outputs": [],
   "source": [
    "from src.utils.visualization_tb import *\n",
    "from src.utils.folders_tb import *\n",
    "from src.utils.mining_data_tb import *\n",
    "from src.utils.apis_tb import *"
   ]
  },
  {
   "source": [
    "## 2.Data Wrangling"
   ],
   "cell_type": "markdown",
   "metadata": {}
  },
  {
   "cell_type": "code",
   "execution_count": 4,
   "metadata": {},
   "outputs": [
    {
     "output_type": "execute_result",
     "data": {
      "text/plain": [
       "  iso_code continent     location        date  total_cases  new_cases  \\\n",
       "0      AFG      Asia  Afghanistan  2020-02-24          1.0        1.0   \n",
       "1      AFG      Asia  Afghanistan  2020-02-25          1.0        0.0   \n",
       "2      AFG      Asia  Afghanistan  2020-02-26          1.0        0.0   \n",
       "3      AFG      Asia  Afghanistan  2020-02-27          1.0        0.0   \n",
       "4      AFG      Asia  Afghanistan  2020-02-28          1.0        0.0   \n",
       "\n",
       "   new_cases_smoothed  total_deaths  new_deaths  new_deaths_smoothed  ...  \\\n",
       "0                 NaN           NaN         NaN                  NaN  ...   \n",
       "1                 NaN           NaN         NaN                  NaN  ...   \n",
       "2                 NaN           NaN         NaN                  NaN  ...   \n",
       "3                 NaN           NaN         NaN                  NaN  ...   \n",
       "4                 NaN           NaN         NaN                  NaN  ...   \n",
       "\n",
       "   gdp_per_capita  extreme_poverty  cardiovasc_death_rate  \\\n",
       "0        1803.987              NaN                597.029   \n",
       "1        1803.987              NaN                597.029   \n",
       "2        1803.987              NaN                597.029   \n",
       "3        1803.987              NaN                597.029   \n",
       "4        1803.987              NaN                597.029   \n",
       "\n",
       "   diabetes_prevalence  female_smokers  male_smokers  handwashing_facilities  \\\n",
       "0                 9.59             NaN           NaN                  37.746   \n",
       "1                 9.59             NaN           NaN                  37.746   \n",
       "2                 9.59             NaN           NaN                  37.746   \n",
       "3                 9.59             NaN           NaN                  37.746   \n",
       "4                 9.59             NaN           NaN                  37.746   \n",
       "\n",
       "   hospital_beds_per_thousand  life_expectancy  human_development_index  \n",
       "0                         0.5            64.83                    0.498  \n",
       "1                         0.5            64.83                    0.498  \n",
       "2                         0.5            64.83                    0.498  \n",
       "3                         0.5            64.83                    0.498  \n",
       "4                         0.5            64.83                    0.498  \n",
       "\n",
       "[5 rows x 55 columns]"
      ],
      "text/html": "<div>\n<style scoped>\n    .dataframe tbody tr th:only-of-type {\n        vertical-align: middle;\n    }\n\n    .dataframe tbody tr th {\n        vertical-align: top;\n    }\n\n    .dataframe thead th {\n        text-align: right;\n    }\n</style>\n<table border=\"1\" class=\"dataframe\">\n  <thead>\n    <tr style=\"text-align: right;\">\n      <th></th>\n      <th>iso_code</th>\n      <th>continent</th>\n      <th>location</th>\n      <th>date</th>\n      <th>total_cases</th>\n      <th>new_cases</th>\n      <th>new_cases_smoothed</th>\n      <th>total_deaths</th>\n      <th>new_deaths</th>\n      <th>new_deaths_smoothed</th>\n      <th>...</th>\n      <th>gdp_per_capita</th>\n      <th>extreme_poverty</th>\n      <th>cardiovasc_death_rate</th>\n      <th>diabetes_prevalence</th>\n      <th>female_smokers</th>\n      <th>male_smokers</th>\n      <th>handwashing_facilities</th>\n      <th>hospital_beds_per_thousand</th>\n      <th>life_expectancy</th>\n      <th>human_development_index</th>\n    </tr>\n  </thead>\n  <tbody>\n    <tr>\n      <th>0</th>\n      <td>AFG</td>\n      <td>Asia</td>\n      <td>Afghanistan</td>\n      <td>2020-02-24</td>\n      <td>1.0</td>\n      <td>1.0</td>\n      <td>NaN</td>\n      <td>NaN</td>\n      <td>NaN</td>\n      <td>NaN</td>\n      <td>...</td>\n      <td>1803.987</td>\n      <td>NaN</td>\n      <td>597.029</td>\n      <td>9.59</td>\n      <td>NaN</td>\n      <td>NaN</td>\n      <td>37.746</td>\n      <td>0.5</td>\n      <td>64.83</td>\n      <td>0.498</td>\n    </tr>\n    <tr>\n      <th>1</th>\n      <td>AFG</td>\n      <td>Asia</td>\n      <td>Afghanistan</td>\n      <td>2020-02-25</td>\n      <td>1.0</td>\n      <td>0.0</td>\n      <td>NaN</td>\n      <td>NaN</td>\n      <td>NaN</td>\n      <td>NaN</td>\n      <td>...</td>\n      <td>1803.987</td>\n      <td>NaN</td>\n      <td>597.029</td>\n      <td>9.59</td>\n      <td>NaN</td>\n      <td>NaN</td>\n      <td>37.746</td>\n      <td>0.5</td>\n      <td>64.83</td>\n      <td>0.498</td>\n    </tr>\n    <tr>\n      <th>2</th>\n      <td>AFG</td>\n      <td>Asia</td>\n      <td>Afghanistan</td>\n      <td>2020-02-26</td>\n      <td>1.0</td>\n      <td>0.0</td>\n      <td>NaN</td>\n      <td>NaN</td>\n      <td>NaN</td>\n      <td>NaN</td>\n      <td>...</td>\n      <td>1803.987</td>\n      <td>NaN</td>\n      <td>597.029</td>\n      <td>9.59</td>\n      <td>NaN</td>\n      <td>NaN</td>\n      <td>37.746</td>\n      <td>0.5</td>\n      <td>64.83</td>\n      <td>0.498</td>\n    </tr>\n    <tr>\n      <th>3</th>\n      <td>AFG</td>\n      <td>Asia</td>\n      <td>Afghanistan</td>\n      <td>2020-02-27</td>\n      <td>1.0</td>\n      <td>0.0</td>\n      <td>NaN</td>\n      <td>NaN</td>\n      <td>NaN</td>\n      <td>NaN</td>\n      <td>...</td>\n      <td>1803.987</td>\n      <td>NaN</td>\n      <td>597.029</td>\n      <td>9.59</td>\n      <td>NaN</td>\n      <td>NaN</td>\n      <td>37.746</td>\n      <td>0.5</td>\n      <td>64.83</td>\n      <td>0.498</td>\n    </tr>\n    <tr>\n      <th>4</th>\n      <td>AFG</td>\n      <td>Asia</td>\n      <td>Afghanistan</td>\n      <td>2020-02-28</td>\n      <td>1.0</td>\n      <td>0.0</td>\n      <td>NaN</td>\n      <td>NaN</td>\n      <td>NaN</td>\n      <td>NaN</td>\n      <td>...</td>\n      <td>1803.987</td>\n      <td>NaN</td>\n      <td>597.029</td>\n      <td>9.59</td>\n      <td>NaN</td>\n      <td>NaN</td>\n      <td>37.746</td>\n      <td>0.5</td>\n      <td>64.83</td>\n      <td>0.498</td>\n    </tr>\n  </tbody>\n</table>\n<p>5 rows × 55 columns</p>\n</div>"
     },
     "metadata": {},
     "execution_count": 4
    }
   ],
   "source": [
    "data = pd.read_csv(\"https://covid.ourworldindata.org/data/owid-covid-data.csv\") #Boton derecho y copié la direccion de enlace\n",
    "data.head()"
   ]
  },
  {
   "cell_type": "code",
   "execution_count": 6,
   "metadata": {},
   "outputs": [
    {
     "output_type": "execute_result",
     "data": {
      "text/plain": [
       "(60894, 55)"
      ]
     },
     "metadata": {},
     "execution_count": 6
    }
   ],
   "source": [
    "data.shape"
   ]
  },
  {
   "cell_type": "code",
   "execution_count": 8,
   "metadata": {},
   "outputs": [
    {
     "output_type": "stream",
     "name": "stdout",
     "text": [
      "(1751, 55)\n"
     ]
    },
    {
     "output_type": "execute_result",
     "data": {
      "text/plain": [
       "      iso_code      continent       location        date  total_cases  \\\n",
       "19326      FRA         Europe         France  2020-01-24          2.0   \n",
       "19327      FRA         Europe         France  2020-01-25          3.0   \n",
       "19328      FRA         Europe         France  2020-01-26          3.0   \n",
       "19329      FRA         Europe         France  2020-01-27          3.0   \n",
       "19330      FRA         Europe         France  2020-01-28          4.0   \n",
       "...        ...            ...            ...         ...          ...   \n",
       "57946      USA  North America  United States  2021-01-14   23314521.0   \n",
       "57947      USA  North America  United States  2021-01-15   23556097.0   \n",
       "57948      USA  North America  United States  2021-01-16   23758855.0   \n",
       "57949      USA  North America  United States  2021-01-17   23936773.0   \n",
       "57950      USA  North America  United States  2021-01-18   24078772.0   \n",
       "\n",
       "       new_cases  new_cases_smoothed  total_deaths  new_deaths  \\\n",
       "19326        2.0                 NaN           NaN         NaN   \n",
       "19327        1.0                 NaN           NaN         NaN   \n",
       "19328        0.0                 NaN           NaN         NaN   \n",
       "19329        0.0                 NaN           NaN         NaN   \n",
       "19330        1.0                 NaN           NaN         NaN   \n",
       "...          ...                 ...           ...         ...   \n",
       "57946   235561.0          239727.143      388697.0      3929.0   \n",
       "57947   241576.0          232450.000      392499.0      3802.0   \n",
       "57948   202758.0          223582.571      395851.0      3352.0   \n",
       "57949   177918.0          218100.857      397600.0      1749.0   \n",
       "57950   141999.0          207914.429      399003.0      1403.0   \n",
       "\n",
       "       new_deaths_smoothed  ...  gdp_per_capita  extreme_poverty  \\\n",
       "19326                  NaN  ...       38605.671              NaN   \n",
       "19327                  NaN  ...       38605.671              NaN   \n",
       "19328                  NaN  ...       38605.671              NaN   \n",
       "19329                  NaN  ...       38605.671              NaN   \n",
       "19330                  NaN  ...       38605.671              NaN   \n",
       "...                    ...  ...             ...              ...   \n",
       "57946             3339.000  ...       54225.446              1.2   \n",
       "57947             3319.429  ...       54225.446              1.2   \n",
       "57948             3333.571  ...       54225.446              1.2   \n",
       "57949             3323.286  ...       54225.446              1.2   \n",
       "57950             3237.143  ...       54225.446              1.2   \n",
       "\n",
       "       cardiovasc_death_rate  diabetes_prevalence  female_smokers  \\\n",
       "19326                 86.060                 4.77            30.1   \n",
       "19327                 86.060                 4.77            30.1   \n",
       "19328                 86.060                 4.77            30.1   \n",
       "19329                 86.060                 4.77            30.1   \n",
       "19330                 86.060                 4.77            30.1   \n",
       "...                      ...                  ...             ...   \n",
       "57946                151.089                10.79            19.1   \n",
       "57947                151.089                10.79            19.1   \n",
       "57948                151.089                10.79            19.1   \n",
       "57949                151.089                10.79            19.1   \n",
       "57950                151.089                10.79            19.1   \n",
       "\n",
       "       male_smokers  handwashing_facilities  hospital_beds_per_thousand  \\\n",
       "19326          35.6                     NaN                        5.98   \n",
       "19327          35.6                     NaN                        5.98   \n",
       "19328          35.6                     NaN                        5.98   \n",
       "19329          35.6                     NaN                        5.98   \n",
       "19330          35.6                     NaN                        5.98   \n",
       "...             ...                     ...                         ...   \n",
       "57946          24.6                     NaN                        2.77   \n",
       "57947          24.6                     NaN                        2.77   \n",
       "57948          24.6                     NaN                        2.77   \n",
       "57949          24.6                     NaN                        2.77   \n",
       "57950          24.6                     NaN                        2.77   \n",
       "\n",
       "       life_expectancy  human_development_index  \n",
       "19326            82.66                    0.901  \n",
       "19327            82.66                    0.901  \n",
       "19328            82.66                    0.901  \n",
       "19329            82.66                    0.901  \n",
       "19330            82.66                    0.901  \n",
       "...                ...                      ...  \n",
       "57946            78.86                    0.924  \n",
       "57947            78.86                    0.924  \n",
       "57948            78.86                    0.924  \n",
       "57949            78.86                    0.924  \n",
       "57950            78.86                    0.924  \n",
       "\n",
       "[1751 rows x 55 columns]"
      ],
      "text/html": "<div>\n<style scoped>\n    .dataframe tbody tr th:only-of-type {\n        vertical-align: middle;\n    }\n\n    .dataframe tbody tr th {\n        vertical-align: top;\n    }\n\n    .dataframe thead th {\n        text-align: right;\n    }\n</style>\n<table border=\"1\" class=\"dataframe\">\n  <thead>\n    <tr style=\"text-align: right;\">\n      <th></th>\n      <th>iso_code</th>\n      <th>continent</th>\n      <th>location</th>\n      <th>date</th>\n      <th>total_cases</th>\n      <th>new_cases</th>\n      <th>new_cases_smoothed</th>\n      <th>total_deaths</th>\n      <th>new_deaths</th>\n      <th>new_deaths_smoothed</th>\n      <th>...</th>\n      <th>gdp_per_capita</th>\n      <th>extreme_poverty</th>\n      <th>cardiovasc_death_rate</th>\n      <th>diabetes_prevalence</th>\n      <th>female_smokers</th>\n      <th>male_smokers</th>\n      <th>handwashing_facilities</th>\n      <th>hospital_beds_per_thousand</th>\n      <th>life_expectancy</th>\n      <th>human_development_index</th>\n    </tr>\n  </thead>\n  <tbody>\n    <tr>\n      <th>19326</th>\n      <td>FRA</td>\n      <td>Europe</td>\n      <td>France</td>\n      <td>2020-01-24</td>\n      <td>2.0</td>\n      <td>2.0</td>\n      <td>NaN</td>\n      <td>NaN</td>\n      <td>NaN</td>\n      <td>NaN</td>\n      <td>...</td>\n      <td>38605.671</td>\n      <td>NaN</td>\n      <td>86.060</td>\n      <td>4.77</td>\n      <td>30.1</td>\n      <td>35.6</td>\n      <td>NaN</td>\n      <td>5.98</td>\n      <td>82.66</td>\n      <td>0.901</td>\n    </tr>\n    <tr>\n      <th>19327</th>\n      <td>FRA</td>\n      <td>Europe</td>\n      <td>France</td>\n      <td>2020-01-25</td>\n      <td>3.0</td>\n      <td>1.0</td>\n      <td>NaN</td>\n      <td>NaN</td>\n      <td>NaN</td>\n      <td>NaN</td>\n      <td>...</td>\n      <td>38605.671</td>\n      <td>NaN</td>\n      <td>86.060</td>\n      <td>4.77</td>\n      <td>30.1</td>\n      <td>35.6</td>\n      <td>NaN</td>\n      <td>5.98</td>\n      <td>82.66</td>\n      <td>0.901</td>\n    </tr>\n    <tr>\n      <th>19328</th>\n      <td>FRA</td>\n      <td>Europe</td>\n      <td>France</td>\n      <td>2020-01-26</td>\n      <td>3.0</td>\n      <td>0.0</td>\n      <td>NaN</td>\n      <td>NaN</td>\n      <td>NaN</td>\n      <td>NaN</td>\n      <td>...</td>\n      <td>38605.671</td>\n      <td>NaN</td>\n      <td>86.060</td>\n      <td>4.77</td>\n      <td>30.1</td>\n      <td>35.6</td>\n      <td>NaN</td>\n      <td>5.98</td>\n      <td>82.66</td>\n      <td>0.901</td>\n    </tr>\n    <tr>\n      <th>19329</th>\n      <td>FRA</td>\n      <td>Europe</td>\n      <td>France</td>\n      <td>2020-01-27</td>\n      <td>3.0</td>\n      <td>0.0</td>\n      <td>NaN</td>\n      <td>NaN</td>\n      <td>NaN</td>\n      <td>NaN</td>\n      <td>...</td>\n      <td>38605.671</td>\n      <td>NaN</td>\n      <td>86.060</td>\n      <td>4.77</td>\n      <td>30.1</td>\n      <td>35.6</td>\n      <td>NaN</td>\n      <td>5.98</td>\n      <td>82.66</td>\n      <td>0.901</td>\n    </tr>\n    <tr>\n      <th>19330</th>\n      <td>FRA</td>\n      <td>Europe</td>\n      <td>France</td>\n      <td>2020-01-28</td>\n      <td>4.0</td>\n      <td>1.0</td>\n      <td>NaN</td>\n      <td>NaN</td>\n      <td>NaN</td>\n      <td>NaN</td>\n      <td>...</td>\n      <td>38605.671</td>\n      <td>NaN</td>\n      <td>86.060</td>\n      <td>4.77</td>\n      <td>30.1</td>\n      <td>35.6</td>\n      <td>NaN</td>\n      <td>5.98</td>\n      <td>82.66</td>\n      <td>0.901</td>\n    </tr>\n    <tr>\n      <th>...</th>\n      <td>...</td>\n      <td>...</td>\n      <td>...</td>\n      <td>...</td>\n      <td>...</td>\n      <td>...</td>\n      <td>...</td>\n      <td>...</td>\n      <td>...</td>\n      <td>...</td>\n      <td>...</td>\n      <td>...</td>\n      <td>...</td>\n      <td>...</td>\n      <td>...</td>\n      <td>...</td>\n      <td>...</td>\n      <td>...</td>\n      <td>...</td>\n      <td>...</td>\n      <td>...</td>\n    </tr>\n    <tr>\n      <th>57946</th>\n      <td>USA</td>\n      <td>North America</td>\n      <td>United States</td>\n      <td>2021-01-14</td>\n      <td>23314521.0</td>\n      <td>235561.0</td>\n      <td>239727.143</td>\n      <td>388697.0</td>\n      <td>3929.0</td>\n      <td>3339.000</td>\n      <td>...</td>\n      <td>54225.446</td>\n      <td>1.2</td>\n      <td>151.089</td>\n      <td>10.79</td>\n      <td>19.1</td>\n      <td>24.6</td>\n      <td>NaN</td>\n      <td>2.77</td>\n      <td>78.86</td>\n      <td>0.924</td>\n    </tr>\n    <tr>\n      <th>57947</th>\n      <td>USA</td>\n      <td>North America</td>\n      <td>United States</td>\n      <td>2021-01-15</td>\n      <td>23556097.0</td>\n      <td>241576.0</td>\n      <td>232450.000</td>\n      <td>392499.0</td>\n      <td>3802.0</td>\n      <td>3319.429</td>\n      <td>...</td>\n      <td>54225.446</td>\n      <td>1.2</td>\n      <td>151.089</td>\n      <td>10.79</td>\n      <td>19.1</td>\n      <td>24.6</td>\n      <td>NaN</td>\n      <td>2.77</td>\n      <td>78.86</td>\n      <td>0.924</td>\n    </tr>\n    <tr>\n      <th>57948</th>\n      <td>USA</td>\n      <td>North America</td>\n      <td>United States</td>\n      <td>2021-01-16</td>\n      <td>23758855.0</td>\n      <td>202758.0</td>\n      <td>223582.571</td>\n      <td>395851.0</td>\n      <td>3352.0</td>\n      <td>3333.571</td>\n      <td>...</td>\n      <td>54225.446</td>\n      <td>1.2</td>\n      <td>151.089</td>\n      <td>10.79</td>\n      <td>19.1</td>\n      <td>24.6</td>\n      <td>NaN</td>\n      <td>2.77</td>\n      <td>78.86</td>\n      <td>0.924</td>\n    </tr>\n    <tr>\n      <th>57949</th>\n      <td>USA</td>\n      <td>North America</td>\n      <td>United States</td>\n      <td>2021-01-17</td>\n      <td>23936773.0</td>\n      <td>177918.0</td>\n      <td>218100.857</td>\n      <td>397600.0</td>\n      <td>1749.0</td>\n      <td>3323.286</td>\n      <td>...</td>\n      <td>54225.446</td>\n      <td>1.2</td>\n      <td>151.089</td>\n      <td>10.79</td>\n      <td>19.1</td>\n      <td>24.6</td>\n      <td>NaN</td>\n      <td>2.77</td>\n      <td>78.86</td>\n      <td>0.924</td>\n    </tr>\n    <tr>\n      <th>57950</th>\n      <td>USA</td>\n      <td>North America</td>\n      <td>United States</td>\n      <td>2021-01-18</td>\n      <td>24078772.0</td>\n      <td>141999.0</td>\n      <td>207914.429</td>\n      <td>399003.0</td>\n      <td>1403.0</td>\n      <td>3237.143</td>\n      <td>...</td>\n      <td>54225.446</td>\n      <td>1.2</td>\n      <td>151.089</td>\n      <td>10.79</td>\n      <td>19.1</td>\n      <td>24.6</td>\n      <td>NaN</td>\n      <td>2.77</td>\n      <td>78.86</td>\n      <td>0.924</td>\n    </tr>\n  </tbody>\n</table>\n<p>1751 rows × 55 columns</p>\n</div>"
     },
     "metadata": {},
     "execution_count": 8
    }
   ],
   "source": [
    "data_sc = data[(data[\"location\"] == \"India\") | (data[\"location\"] == \"Peru\") | (data[\"location\"] == \"United States\") | (data[\"location\"] == \"France\") | (data[\"location\"] == \"Spain\")]\n",
    "print(data_sc.shape)\n",
    "data_sc"
   ]
  },
  {
   "source": [
    "## 3.Creating an API\n",
    "3.1 - Create a dataframe with the mean new deaths of our selected countries.\n",
    "\n",
    "3.2 - Transform this dataframe to a json format\n",
    "\n",
    "3.3 - Create API with the json\n",
    "\n",
    "3.4 - Send the API to another group"
   ],
   "cell_type": "markdown",
   "metadata": {}
  },
  {
   "cell_type": "code",
   "execution_count": 10,
   "metadata": {},
   "outputs": [
    {
     "output_type": "execute_result",
     "data": {
      "text/plain": [
       "146"
      ]
     },
     "metadata": {},
     "execution_count": 10
    }
   ],
   "source": [
    "check_nan = data_sc['new_deaths'].isnull().sum() \n",
    "check_nan"
   ]
  },
  {
   "cell_type": "code",
   "execution_count": null,
   "metadata": {},
   "outputs": [],
   "source": [
    "miss = data_sc.isnull().sum() * 100 / len(data_sc)\n",
    "miss[8]"
   ]
  },
  {
   "cell_type": "code",
   "execution_count": null,
   "metadata": {},
   "outputs": [],
   "source": [
    "data_sc[\"new_deaths\"].sample(10)"
   ]
  }
 ]
}