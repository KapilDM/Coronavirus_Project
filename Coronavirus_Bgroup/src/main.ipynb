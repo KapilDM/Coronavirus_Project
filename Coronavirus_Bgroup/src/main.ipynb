{
 "metadata": {
  "language_info": {
   "codemirror_mode": {
    "name": "ipython",
    "version": 3
   },
   "file_extension": ".py",
   "mimetype": "text/x-python",
   "name": "python",
   "nbconvert_exporter": "python",
   "pygments_lexer": "ipython3",
   "version": "3.9.0-final"
  },
  "orig_nbformat": 2,
  "kernelspec": {
   "name": "python3",
   "display_name": "Python 3.9.0 64-bit",
   "metadata": {
    "interpreter": {
     "hash": "cf85b414d3663472de89104473c842eaab37d7b845999caf56a47ccda76ea2f8"
    }
   }
  }
 },
 "nbformat": 4,
 "nbformat_minor": 2,
 "cells": [
  {
   "source": [
    "# TRABAJO GRUPAL CORONAVIRUS\n",
    "\n",
    "Group B: India, Peru, EEUU, Francia and Spain:\n",
    "\n",
    "Kapil\n",
    "María\n",
    "Juan\n",
    "\n",
    "---------------------"
   ],
   "cell_type": "markdown",
   "metadata": {}
  },
  {
   "cell_type": "code",
   "execution_count": 4,
   "metadata": {},
   "outputs": [],
   "source": [
    "import pandas as pd\n",
    "import numpy as np\n",
    "import sys \n",
    "import os \n",
    "import json\n",
    "from datetime import datetime"
   ]
  },
  {
   "cell_type": "code",
   "execution_count": 5,
   "metadata": {},
   "outputs": [],
   "source": [
    "root_path = os.path.dirname(os.getcwd())\n",
    "sys.path.append(root_path)\n",
    "sys.path = list(set(sys.path)) "
   ]
  },
  {
   "cell_type": "code",
   "execution_count": 6,
   "metadata": {},
   "outputs": [],
   "source": [
    "import src.utils.visualization_tb as vis \n",
    "import src.utils.folders_tb as fol\n",
    "import src.utils.mining_data_tb as mng\n",
    "import src.utils.apis_tb as api"
   ]
  },
  {
   "source": [
    "## 2.Data Wrangling"
   ],
   "cell_type": "markdown",
   "metadata": {}
  },
  {
   "cell_type": "code",
   "execution_count": 7,
   "metadata": {},
   "outputs": [
    {
     "output_type": "execute_result",
     "data": {
      "text/plain": [
       "  iso_code continent     location        date  total_cases  new_cases  \\\n",
       "0      AFG      Asia  Afghanistan  2020-02-24          1.0        1.0   \n",
       "1      AFG      Asia  Afghanistan  2020-02-25          1.0        0.0   \n",
       "2      AFG      Asia  Afghanistan  2020-02-26          1.0        0.0   \n",
       "3      AFG      Asia  Afghanistan  2020-02-27          1.0        0.0   \n",
       "4      AFG      Asia  Afghanistan  2020-02-28          1.0        0.0   \n",
       "\n",
       "   new_cases_smoothed  total_deaths  new_deaths  new_deaths_smoothed  ...  \\\n",
       "0                 NaN           NaN         NaN                  NaN  ...   \n",
       "1                 NaN           NaN         NaN                  NaN  ...   \n",
       "2                 NaN           NaN         NaN                  NaN  ...   \n",
       "3                 NaN           NaN         NaN                  NaN  ...   \n",
       "4                 NaN           NaN         NaN                  NaN  ...   \n",
       "\n",
       "   gdp_per_capita  extreme_poverty  cardiovasc_death_rate  \\\n",
       "0        1803.987              NaN                597.029   \n",
       "1        1803.987              NaN                597.029   \n",
       "2        1803.987              NaN                597.029   \n",
       "3        1803.987              NaN                597.029   \n",
       "4        1803.987              NaN                597.029   \n",
       "\n",
       "   diabetes_prevalence  female_smokers  male_smokers  handwashing_facilities  \\\n",
       "0                 9.59             NaN           NaN                  37.746   \n",
       "1                 9.59             NaN           NaN                  37.746   \n",
       "2                 9.59             NaN           NaN                  37.746   \n",
       "3                 9.59             NaN           NaN                  37.746   \n",
       "4                 9.59             NaN           NaN                  37.746   \n",
       "\n",
       "   hospital_beds_per_thousand  life_expectancy  human_development_index  \n",
       "0                         0.5            64.83                    0.498  \n",
       "1                         0.5            64.83                    0.498  \n",
       "2                         0.5            64.83                    0.498  \n",
       "3                         0.5            64.83                    0.498  \n",
       "4                         0.5            64.83                    0.498  \n",
       "\n",
       "[5 rows x 55 columns]"
      ],
      "text/html": "<div>\n<style scoped>\n    .dataframe tbody tr th:only-of-type {\n        vertical-align: middle;\n    }\n\n    .dataframe tbody tr th {\n        vertical-align: top;\n    }\n\n    .dataframe thead th {\n        text-align: right;\n    }\n</style>\n<table border=\"1\" class=\"dataframe\">\n  <thead>\n    <tr style=\"text-align: right;\">\n      <th></th>\n      <th>iso_code</th>\n      <th>continent</th>\n      <th>location</th>\n      <th>date</th>\n      <th>total_cases</th>\n      <th>new_cases</th>\n      <th>new_cases_smoothed</th>\n      <th>total_deaths</th>\n      <th>new_deaths</th>\n      <th>new_deaths_smoothed</th>\n      <th>...</th>\n      <th>gdp_per_capita</th>\n      <th>extreme_poverty</th>\n      <th>cardiovasc_death_rate</th>\n      <th>diabetes_prevalence</th>\n      <th>female_smokers</th>\n      <th>male_smokers</th>\n      <th>handwashing_facilities</th>\n      <th>hospital_beds_per_thousand</th>\n      <th>life_expectancy</th>\n      <th>human_development_index</th>\n    </tr>\n  </thead>\n  <tbody>\n    <tr>\n      <th>0</th>\n      <td>AFG</td>\n      <td>Asia</td>\n      <td>Afghanistan</td>\n      <td>2020-02-24</td>\n      <td>1.0</td>\n      <td>1.0</td>\n      <td>NaN</td>\n      <td>NaN</td>\n      <td>NaN</td>\n      <td>NaN</td>\n      <td>...</td>\n      <td>1803.987</td>\n      <td>NaN</td>\n      <td>597.029</td>\n      <td>9.59</td>\n      <td>NaN</td>\n      <td>NaN</td>\n      <td>37.746</td>\n      <td>0.5</td>\n      <td>64.83</td>\n      <td>0.498</td>\n    </tr>\n    <tr>\n      <th>1</th>\n      <td>AFG</td>\n      <td>Asia</td>\n      <td>Afghanistan</td>\n      <td>2020-02-25</td>\n      <td>1.0</td>\n      <td>0.0</td>\n      <td>NaN</td>\n      <td>NaN</td>\n      <td>NaN</td>\n      <td>NaN</td>\n      <td>...</td>\n      <td>1803.987</td>\n      <td>NaN</td>\n      <td>597.029</td>\n      <td>9.59</td>\n      <td>NaN</td>\n      <td>NaN</td>\n      <td>37.746</td>\n      <td>0.5</td>\n      <td>64.83</td>\n      <td>0.498</td>\n    </tr>\n    <tr>\n      <th>2</th>\n      <td>AFG</td>\n      <td>Asia</td>\n      <td>Afghanistan</td>\n      <td>2020-02-26</td>\n      <td>1.0</td>\n      <td>0.0</td>\n      <td>NaN</td>\n      <td>NaN</td>\n      <td>NaN</td>\n      <td>NaN</td>\n      <td>...</td>\n      <td>1803.987</td>\n      <td>NaN</td>\n      <td>597.029</td>\n      <td>9.59</td>\n      <td>NaN</td>\n      <td>NaN</td>\n      <td>37.746</td>\n      <td>0.5</td>\n      <td>64.83</td>\n      <td>0.498</td>\n    </tr>\n    <tr>\n      <th>3</th>\n      <td>AFG</td>\n      <td>Asia</td>\n      <td>Afghanistan</td>\n      <td>2020-02-27</td>\n      <td>1.0</td>\n      <td>0.0</td>\n      <td>NaN</td>\n      <td>NaN</td>\n      <td>NaN</td>\n      <td>NaN</td>\n      <td>...</td>\n      <td>1803.987</td>\n      <td>NaN</td>\n      <td>597.029</td>\n      <td>9.59</td>\n      <td>NaN</td>\n      <td>NaN</td>\n      <td>37.746</td>\n      <td>0.5</td>\n      <td>64.83</td>\n      <td>0.498</td>\n    </tr>\n    <tr>\n      <th>4</th>\n      <td>AFG</td>\n      <td>Asia</td>\n      <td>Afghanistan</td>\n      <td>2020-02-28</td>\n      <td>1.0</td>\n      <td>0.0</td>\n      <td>NaN</td>\n      <td>NaN</td>\n      <td>NaN</td>\n      <td>NaN</td>\n      <td>...</td>\n      <td>1803.987</td>\n      <td>NaN</td>\n      <td>597.029</td>\n      <td>9.59</td>\n      <td>NaN</td>\n      <td>NaN</td>\n      <td>37.746</td>\n      <td>0.5</td>\n      <td>64.83</td>\n      <td>0.498</td>\n    </tr>\n  </tbody>\n</table>\n<p>5 rows × 55 columns</p>\n</div>"
     },
     "metadata": {},
     "execution_count": 7
    }
   ],
   "source": [
    "data = pd.read_csv(\"https://covid.ourworldindata.org/data/owid-covid-data.csv\") \n",
    "data.head()"
   ]
  },
  {
   "cell_type": "code",
   "execution_count": 8,
   "metadata": {},
   "outputs": [
    {
     "output_type": "execute_result",
     "data": {
      "text/plain": [
       "(61467, 55)"
      ]
     },
     "metadata": {},
     "execution_count": 8
    }
   ],
   "source": [
    "data.shape"
   ]
  },
  {
   "source": [
    "# 3. Data Cleaning"
   ],
   "cell_type": "markdown",
   "metadata": {}
  },
  {
   "cell_type": "code",
   "execution_count": 16,
   "metadata": {},
   "outputs": [
    {
     "output_type": "execute_result",
     "data": {
      "text/plain": [
       "      iso_code continent location        date  total_cases  new_cases  \\\n",
       "24778      IND      Asia    India  2020-01-30          1.0        1.0   \n",
       "24779      IND      Asia    India  2020-01-31          1.0        0.0   \n",
       "24780      IND      Asia    India  2020-02-01          1.0        0.0   \n",
       "24781      IND      Asia    India  2020-02-02          2.0        1.0   \n",
       "24782      IND      Asia    India  2020-02-03          3.0        1.0   \n",
       "\n",
       "       new_cases_smoothed  total_deaths  new_deaths  new_deaths_smoothed  ...  \\\n",
       "24778                 NaN           NaN         NaN                  NaN  ...   \n",
       "24779                 NaN           NaN         NaN                  NaN  ...   \n",
       "24780                 NaN           NaN         NaN                  NaN  ...   \n",
       "24781                 NaN           NaN         NaN                  NaN  ...   \n",
       "24782                 NaN           NaN         NaN                  NaN  ...   \n",
       "\n",
       "       gdp_per_capita  extreme_poverty  cardiovasc_death_rate  \\\n",
       "24778        6426.674             21.2                 282.28   \n",
       "24779        6426.674             21.2                 282.28   \n",
       "24780        6426.674             21.2                 282.28   \n",
       "24781        6426.674             21.2                 282.28   \n",
       "24782        6426.674             21.2                 282.28   \n",
       "\n",
       "       diabetes_prevalence  female_smokers  male_smokers  \\\n",
       "24778                10.39             1.9          20.6   \n",
       "24779                10.39             1.9          20.6   \n",
       "24780                10.39             1.9          20.6   \n",
       "24781                10.39             1.9          20.6   \n",
       "24782                10.39             1.9          20.6   \n",
       "\n",
       "       handwashing_facilities  hospital_beds_per_thousand  life_expectancy  \\\n",
       "24778                   59.55                        0.53            69.66   \n",
       "24779                   59.55                        0.53            69.66   \n",
       "24780                   59.55                        0.53            69.66   \n",
       "24781                   59.55                        0.53            69.66   \n",
       "24782                   59.55                        0.53            69.66   \n",
       "\n",
       "       human_development_index  \n",
       "24778                     0.64  \n",
       "24779                     0.64  \n",
       "24780                     0.64  \n",
       "24781                     0.64  \n",
       "24782                     0.64  \n",
       "\n",
       "[5 rows x 55 columns]"
      ],
      "text/html": "<div>\n<style scoped>\n    .dataframe tbody tr th:only-of-type {\n        vertical-align: middle;\n    }\n\n    .dataframe tbody tr th {\n        vertical-align: top;\n    }\n\n    .dataframe thead th {\n        text-align: right;\n    }\n</style>\n<table border=\"1\" class=\"dataframe\">\n  <thead>\n    <tr style=\"text-align: right;\">\n      <th></th>\n      <th>iso_code</th>\n      <th>continent</th>\n      <th>location</th>\n      <th>date</th>\n      <th>total_cases</th>\n      <th>new_cases</th>\n      <th>new_cases_smoothed</th>\n      <th>total_deaths</th>\n      <th>new_deaths</th>\n      <th>new_deaths_smoothed</th>\n      <th>...</th>\n      <th>gdp_per_capita</th>\n      <th>extreme_poverty</th>\n      <th>cardiovasc_death_rate</th>\n      <th>diabetes_prevalence</th>\n      <th>female_smokers</th>\n      <th>male_smokers</th>\n      <th>handwashing_facilities</th>\n      <th>hospital_beds_per_thousand</th>\n      <th>life_expectancy</th>\n      <th>human_development_index</th>\n    </tr>\n  </thead>\n  <tbody>\n    <tr>\n      <th>24778</th>\n      <td>IND</td>\n      <td>Asia</td>\n      <td>India</td>\n      <td>2020-01-30</td>\n      <td>1.0</td>\n      <td>1.0</td>\n      <td>NaN</td>\n      <td>NaN</td>\n      <td>NaN</td>\n      <td>NaN</td>\n      <td>...</td>\n      <td>6426.674</td>\n      <td>21.2</td>\n      <td>282.28</td>\n      <td>10.39</td>\n      <td>1.9</td>\n      <td>20.6</td>\n      <td>59.55</td>\n      <td>0.53</td>\n      <td>69.66</td>\n      <td>0.64</td>\n    </tr>\n    <tr>\n      <th>24779</th>\n      <td>IND</td>\n      <td>Asia</td>\n      <td>India</td>\n      <td>2020-01-31</td>\n      <td>1.0</td>\n      <td>0.0</td>\n      <td>NaN</td>\n      <td>NaN</td>\n      <td>NaN</td>\n      <td>NaN</td>\n      <td>...</td>\n      <td>6426.674</td>\n      <td>21.2</td>\n      <td>282.28</td>\n      <td>10.39</td>\n      <td>1.9</td>\n      <td>20.6</td>\n      <td>59.55</td>\n      <td>0.53</td>\n      <td>69.66</td>\n      <td>0.64</td>\n    </tr>\n    <tr>\n      <th>24780</th>\n      <td>IND</td>\n      <td>Asia</td>\n      <td>India</td>\n      <td>2020-02-01</td>\n      <td>1.0</td>\n      <td>0.0</td>\n      <td>NaN</td>\n      <td>NaN</td>\n      <td>NaN</td>\n      <td>NaN</td>\n      <td>...</td>\n      <td>6426.674</td>\n      <td>21.2</td>\n      <td>282.28</td>\n      <td>10.39</td>\n      <td>1.9</td>\n      <td>20.6</td>\n      <td>59.55</td>\n      <td>0.53</td>\n      <td>69.66</td>\n      <td>0.64</td>\n    </tr>\n    <tr>\n      <th>24781</th>\n      <td>IND</td>\n      <td>Asia</td>\n      <td>India</td>\n      <td>2020-02-02</td>\n      <td>2.0</td>\n      <td>1.0</td>\n      <td>NaN</td>\n      <td>NaN</td>\n      <td>NaN</td>\n      <td>NaN</td>\n      <td>...</td>\n      <td>6426.674</td>\n      <td>21.2</td>\n      <td>282.28</td>\n      <td>10.39</td>\n      <td>1.9</td>\n      <td>20.6</td>\n      <td>59.55</td>\n      <td>0.53</td>\n      <td>69.66</td>\n      <td>0.64</td>\n    </tr>\n    <tr>\n      <th>24782</th>\n      <td>IND</td>\n      <td>Asia</td>\n      <td>India</td>\n      <td>2020-02-03</td>\n      <td>3.0</td>\n      <td>1.0</td>\n      <td>NaN</td>\n      <td>NaN</td>\n      <td>NaN</td>\n      <td>NaN</td>\n      <td>...</td>\n      <td>6426.674</td>\n      <td>21.2</td>\n      <td>282.28</td>\n      <td>10.39</td>\n      <td>1.9</td>\n      <td>20.6</td>\n      <td>59.55</td>\n      <td>0.53</td>\n      <td>69.66</td>\n      <td>0.64</td>\n    </tr>\n  </tbody>\n</table>\n<p>5 rows × 55 columns</p>\n</div>"
     },
     "metadata": {},
     "execution_count": 16
    }
   ],
   "source": [
    "#Selecting assigned group B countries\n",
    "data_sc = mng.country_select(df=data, count_list=['India', 'Peru', 'United States', 'France', 'Spain'])\n",
    "data_sc.head()"
   ]
  },
  {
   "cell_type": "code",
   "execution_count": 14,
   "metadata": {},
   "outputs": [
    {
     "output_type": "execute_result",
     "data": {
      "text/plain": [
       "iso_code                                  0.000000\n",
       "hospital_beds_per_thousand                0.000000\n",
       "female_smokers                            0.000000\n",
       "diabetes_prevalence                       0.000000\n",
       "cardiovasc_death_rate                     0.000000\n",
       "gdp_per_capita                            0.000000\n",
       "aged_70_older                             0.000000\n",
       "aged_65_older                             0.000000\n",
       "median_age                                0.000000\n",
       "population_density                        0.000000\n",
       "population                                0.000000\n",
       "life_expectancy                           0.000000\n",
       "human_development_index                   0.000000\n",
       "total_cases_per_million                   0.000000\n",
       "continent                                 0.000000\n",
       "location                                  0.000000\n",
       "date                                      0.000000\n",
       "total_cases                               0.000000\n",
       "new_cases                                 0.056786\n",
       "new_cases_per_million                     0.056786\n",
       "new_deaths_smoothed                       1.476434\n",
       "new_cases_smoothed                        1.476434\n",
       "new_cases_smoothed_per_million            1.476434\n",
       "new_deaths_smoothed_per_million           1.476434\n",
       "stringency_index                          1.987507\n",
       "total_deaths                              8.290744\n",
       "new_deaths                                8.290744\n",
       "new_deaths_per_million                    8.290744\n",
       "total_deaths_per_million                  8.290744\n",
       "reproduction_rate                        12.947189\n",
       "tests_units                              16.524702\n",
       "male_smokers                             18.228279\n",
       "new_tests_smoothed                       18.455423\n",
       "new_tests_smoothed_per_thousand          18.455423\n",
       "extreme_poverty                          20.613288\n",
       "new_tests                                33.390119\n",
       "new_tests_per_thousand                   33.390119\n",
       "positive_rate                            33.730835\n",
       "tests_per_case                           33.730835\n",
       "total_tests                              44.860875\n",
       "total_tests_per_thousand                 44.860875\n",
       "hosp_patients_per_million                58.886996\n",
       "hosp_patients                            58.886996\n",
       "icu_patients_per_million                 59.454855\n",
       "icu_patients                             59.454855\n",
       "handwashing_facilities                   79.727428\n",
       "weekly_hosp_admissions                   92.106758\n",
       "weekly_icu_admissions_per_million        92.106758\n",
       "weekly_icu_admissions                    92.106758\n",
       "weekly_hosp_admissions_per_million       92.106758\n",
       "new_vaccinations_smoothed                96.138558\n",
       "new_vaccinations_smoothed_per_million    96.138558\n",
       "total_vaccinations_per_hundred           96.933560\n",
       "total_vaccinations                       96.933560\n",
       "new_vaccinations                         97.785349\n",
       "dtype: float64"
      ]
     },
     "metadata": {},
     "execution_count": 14
    }
   ],
   "source": [
    "#Percentage of missing values.  This will help us decide which columns we have selected.\n",
    "miss = data_sc.isnull().sum() * 100 / len(data_sc)\n",
    "miss.sort_values()"
   ]
  },
  {
   "cell_type": "code",
   "execution_count": 15,
   "metadata": {},
   "outputs": [
    {
     "output_type": "execute_result",
     "data": {
      "text/plain": [
       "array([19.718,  5.989,  7.151, 19.436, 15.413])"
      ]
     },
     "metadata": {},
     "execution_count": 15
    }
   ],
   "source": [
    "# Function used to see the different values inside each column. If there were only five values, that column was not included. \n",
    "data_sc[\"aged_65_older\"].unique()"
   ]
  },
  {
   "cell_type": "code",
   "execution_count": 19,
   "metadata": {},
   "outputs": [
    {
     "output_type": "execute_result",
     "data": {
      "text/plain": [
       "      iso_code continent location        date  total_cases  \\\n",
       "24778      IND      Asia    India  2020-01-30          1.0   \n",
       "24779      IND      Asia    India  2020-01-31          1.0   \n",
       "24780      IND      Asia    India  2020-02-01          1.0   \n",
       "24781      IND      Asia    India  2020-02-02          2.0   \n",
       "24782      IND      Asia    India  2020-02-03          3.0   \n",
       "...        ...       ...      ...         ...          ...   \n",
       "51838      ESP    Europe    Spain  2021-01-17    2252164.0   \n",
       "51839      ESP    Europe    Spain  2021-01-18    2336451.0   \n",
       "51840      ESP    Europe    Spain  2021-01-19    2370742.0   \n",
       "51841      ESP    Europe    Spain  2021-01-20    2412318.0   \n",
       "51842      ESP    Europe    Spain  2021-01-21    2456675.0   \n",
       "\n",
       "       total_cases_per_million  new_cases_smoothed  \\\n",
       "24778                    0.001                 NaN   \n",
       "24779                    0.001                 NaN   \n",
       "24780                    0.001                 NaN   \n",
       "24781                    0.001                 NaN   \n",
       "24782                    0.002                 NaN   \n",
       "...                        ...                 ...   \n",
       "51838                48169.703           28829.143   \n",
       "51839                49972.449           32095.571   \n",
       "51840                50705.871           33360.286   \n",
       "51841                51595.106           33747.000   \n",
       "51842                52543.822           34958.286   \n",
       "\n",
       "       new_cases_smoothed_per_million  new_deaths_smoothed  \\\n",
       "24778                             NaN                  NaN   \n",
       "24779                             NaN                  NaN   \n",
       "24780                             NaN                  NaN   \n",
       "24781                             NaN                  NaN   \n",
       "24782                             NaN                  NaN   \n",
       "...                               ...                  ...   \n",
       "51838                         616.603              205.714   \n",
       "51839                         686.466              213.429   \n",
       "51840                         713.516              212.857   \n",
       "51841                         721.787              251.286   \n",
       "51842                         747.694              280.286   \n",
       "\n",
       "       new_deaths_smoothed_per_million  total_deaths  \\\n",
       "24778                              NaN           NaN   \n",
       "24779                              NaN           NaN   \n",
       "24780                              NaN           NaN   \n",
       "24781                              NaN           NaN   \n",
       "24782                              NaN           NaN   \n",
       "...                                ...           ...   \n",
       "51838                            4.400       53314.0   \n",
       "51839                            4.565       53769.0   \n",
       "51840                            4.553       54173.0   \n",
       "51841                            5.375       54637.0   \n",
       "51842                            5.995       55041.0   \n",
       "\n",
       "       total_deaths_per_million  life_expectancy  stringency_index  new_deaths  \n",
       "24778                       NaN            69.66             10.19         NaN  \n",
       "24779                       NaN            69.66             10.19         NaN  \n",
       "24780                       NaN            69.66             10.19         NaN  \n",
       "24781                       NaN            69.66             10.19         NaN  \n",
       "24782                       NaN            69.66             10.19         NaN  \n",
       "...                         ...              ...               ...         ...  \n",
       "51838                  1140.290            83.56             71.30         0.0  \n",
       "51839                  1150.021            83.56             71.30       455.0  \n",
       "51840                  1158.662            83.56             71.30       404.0  \n",
       "51841                  1168.586            83.56             71.30       464.0  \n",
       "51842                  1177.227            83.56               NaN       404.0  \n",
       "\n",
       "[1766 rows x 15 columns]"
      ],
      "text/html": "<div>\n<style scoped>\n    .dataframe tbody tr th:only-of-type {\n        vertical-align: middle;\n    }\n\n    .dataframe tbody tr th {\n        vertical-align: top;\n    }\n\n    .dataframe thead th {\n        text-align: right;\n    }\n</style>\n<table border=\"1\" class=\"dataframe\">\n  <thead>\n    <tr style=\"text-align: right;\">\n      <th></th>\n      <th>iso_code</th>\n      <th>continent</th>\n      <th>location</th>\n      <th>date</th>\n      <th>total_cases</th>\n      <th>total_cases_per_million</th>\n      <th>new_cases_smoothed</th>\n      <th>new_cases_smoothed_per_million</th>\n      <th>new_deaths_smoothed</th>\n      <th>new_deaths_smoothed_per_million</th>\n      <th>total_deaths</th>\n      <th>total_deaths_per_million</th>\n      <th>life_expectancy</th>\n      <th>stringency_index</th>\n      <th>new_deaths</th>\n    </tr>\n  </thead>\n  <tbody>\n    <tr>\n      <th>24778</th>\n      <td>IND</td>\n      <td>Asia</td>\n      <td>India</td>\n      <td>2020-01-30</td>\n      <td>1.0</td>\n      <td>0.001</td>\n      <td>NaN</td>\n      <td>NaN</td>\n      <td>NaN</td>\n      <td>NaN</td>\n      <td>NaN</td>\n      <td>NaN</td>\n      <td>69.66</td>\n      <td>10.19</td>\n      <td>NaN</td>\n    </tr>\n    <tr>\n      <th>24779</th>\n      <td>IND</td>\n      <td>Asia</td>\n      <td>India</td>\n      <td>2020-01-31</td>\n      <td>1.0</td>\n      <td>0.001</td>\n      <td>NaN</td>\n      <td>NaN</td>\n      <td>NaN</td>\n      <td>NaN</td>\n      <td>NaN</td>\n      <td>NaN</td>\n      <td>69.66</td>\n      <td>10.19</td>\n      <td>NaN</td>\n    </tr>\n    <tr>\n      <th>24780</th>\n      <td>IND</td>\n      <td>Asia</td>\n      <td>India</td>\n      <td>2020-02-01</td>\n      <td>1.0</td>\n      <td>0.001</td>\n      <td>NaN</td>\n      <td>NaN</td>\n      <td>NaN</td>\n      <td>NaN</td>\n      <td>NaN</td>\n      <td>NaN</td>\n      <td>69.66</td>\n      <td>10.19</td>\n      <td>NaN</td>\n    </tr>\n    <tr>\n      <th>24781</th>\n      <td>IND</td>\n      <td>Asia</td>\n      <td>India</td>\n      <td>2020-02-02</td>\n      <td>2.0</td>\n      <td>0.001</td>\n      <td>NaN</td>\n      <td>NaN</td>\n      <td>NaN</td>\n      <td>NaN</td>\n      <td>NaN</td>\n      <td>NaN</td>\n      <td>69.66</td>\n      <td>10.19</td>\n      <td>NaN</td>\n    </tr>\n    <tr>\n      <th>24782</th>\n      <td>IND</td>\n      <td>Asia</td>\n      <td>India</td>\n      <td>2020-02-03</td>\n      <td>3.0</td>\n      <td>0.002</td>\n      <td>NaN</td>\n      <td>NaN</td>\n      <td>NaN</td>\n      <td>NaN</td>\n      <td>NaN</td>\n      <td>NaN</td>\n      <td>69.66</td>\n      <td>10.19</td>\n      <td>NaN</td>\n    </tr>\n    <tr>\n      <th>...</th>\n      <td>...</td>\n      <td>...</td>\n      <td>...</td>\n      <td>...</td>\n      <td>...</td>\n      <td>...</td>\n      <td>...</td>\n      <td>...</td>\n      <td>...</td>\n      <td>...</td>\n      <td>...</td>\n      <td>...</td>\n      <td>...</td>\n      <td>...</td>\n      <td>...</td>\n    </tr>\n    <tr>\n      <th>51838</th>\n      <td>ESP</td>\n      <td>Europe</td>\n      <td>Spain</td>\n      <td>2021-01-17</td>\n      <td>2252164.0</td>\n      <td>48169.703</td>\n      <td>28829.143</td>\n      <td>616.603</td>\n      <td>205.714</td>\n      <td>4.400</td>\n      <td>53314.0</td>\n      <td>1140.290</td>\n      <td>83.56</td>\n      <td>71.30</td>\n      <td>0.0</td>\n    </tr>\n    <tr>\n      <th>51839</th>\n      <td>ESP</td>\n      <td>Europe</td>\n      <td>Spain</td>\n      <td>2021-01-18</td>\n      <td>2336451.0</td>\n      <td>49972.449</td>\n      <td>32095.571</td>\n      <td>686.466</td>\n      <td>213.429</td>\n      <td>4.565</td>\n      <td>53769.0</td>\n      <td>1150.021</td>\n      <td>83.56</td>\n      <td>71.30</td>\n      <td>455.0</td>\n    </tr>\n    <tr>\n      <th>51840</th>\n      <td>ESP</td>\n      <td>Europe</td>\n      <td>Spain</td>\n      <td>2021-01-19</td>\n      <td>2370742.0</td>\n      <td>50705.871</td>\n      <td>33360.286</td>\n      <td>713.516</td>\n      <td>212.857</td>\n      <td>4.553</td>\n      <td>54173.0</td>\n      <td>1158.662</td>\n      <td>83.56</td>\n      <td>71.30</td>\n      <td>404.0</td>\n    </tr>\n    <tr>\n      <th>51841</th>\n      <td>ESP</td>\n      <td>Europe</td>\n      <td>Spain</td>\n      <td>2021-01-20</td>\n      <td>2412318.0</td>\n      <td>51595.106</td>\n      <td>33747.000</td>\n      <td>721.787</td>\n      <td>251.286</td>\n      <td>5.375</td>\n      <td>54637.0</td>\n      <td>1168.586</td>\n      <td>83.56</td>\n      <td>71.30</td>\n      <td>464.0</td>\n    </tr>\n    <tr>\n      <th>51842</th>\n      <td>ESP</td>\n      <td>Europe</td>\n      <td>Spain</td>\n      <td>2021-01-21</td>\n      <td>2456675.0</td>\n      <td>52543.822</td>\n      <td>34958.286</td>\n      <td>747.694</td>\n      <td>280.286</td>\n      <td>5.995</td>\n      <td>55041.0</td>\n      <td>1177.227</td>\n      <td>83.56</td>\n      <td>NaN</td>\n      <td>404.0</td>\n    </tr>\n  </tbody>\n</table>\n<p>1766 rows × 15 columns</p>\n</div>"
     },
     "metadata": {},
     "execution_count": 19
    }
   ],
   "source": [
    "#Selecting the columns to analyse.\n",
    "data_final = data_sc[[\"iso_code\",\"continent\",\"location\",\"date\",\"total_cases\",\"total_cases_per_million\",\"new_cases_smoothed\",\"new_cases_smoothed_per_million\",\"new_deaths_smoothed\",\"new_deaths_smoothed_per_million\",\"total_deaths\",\"total_deaths_per_million\",\"life_expectancy\",\"stringency_index\",\"new_deaths\"]]\n",
    "data_final"
   ]
  },
  {
   "cell_type": "code",
   "execution_count": 20,
   "metadata": {},
   "outputs": [],
   "source": [
    "#Changing date column to datatime\n",
    "mng.changing_dates(df=data_final,name_column=\"date\")  "
   ]
  },
  {
   "cell_type": "code",
   "execution_count": 21,
   "metadata": {},
   "outputs": [
    {
     "output_type": "stream",
     "name": "stdout",
     "text": [
      "<class 'pandas.core.frame.DataFrame'>\nInt64Index: 1766 entries, 24778 to 51842\nData columns (total 15 columns):\n #   Column                           Non-Null Count  Dtype         \n---  ------                           --------------  -----         \n 0   iso_code                         1766 non-null   object        \n 1   continent                        1766 non-null   object        \n 2   location                         1766 non-null   object        \n 3   date                             1766 non-null   datetime64[ns]\n 4   total_cases                      1766 non-null   float64       \n 5   total_cases_per_million          1766 non-null   float64       \n 6   new_cases_smoothed               1740 non-null   float64       \n 7   new_cases_smoothed_per_million   1740 non-null   float64       \n 8   new_deaths_smoothed              1740 non-null   float64       \n 9   new_deaths_smoothed_per_million  1740 non-null   float64       \n 10  total_deaths                     1620 non-null   float64       \n 11  total_deaths_per_million         1620 non-null   float64       \n 12  life_expectancy                  1766 non-null   float64       \n 13  stringency_index                 1729 non-null   float64       \n 14  new_deaths                       1620 non-null   float64       \ndtypes: datetime64[ns](1), float64(11), object(3)\nmemory usage: 220.8+ KB\n"
     ]
    }
   ],
   "source": [
    "#Information of our columns to see if changes of format are needed\n",
    "data_final.info()"
   ]
  },
  {
   "source": [
    "## 4.Creating an API.  \n",
    "\n",
    "### We are creating the API in the file ../src/services/apis/server.py\n",
    "\n",
    "4.1 - Create a dataframe with the mean new deaths of our selected countries.\n",
    "\n",
    "4.2 - Transform this dataframe to a json format\n",
    "\n",
    "4.3 - Create API with the json \n",
    "\n",
    "4.4 - Send the API to another group"
   ],
   "cell_type": "markdown",
   "metadata": {}
  },
  {
   "source": [
    "### API workflow:"
   ],
   "cell_type": "markdown",
   "metadata": {}
  },
  {
   "source": [
    "![API](../resources/API_info.png)"
   ],
   "cell_type": "markdown",
   "metadata": {}
  }
 ]
}