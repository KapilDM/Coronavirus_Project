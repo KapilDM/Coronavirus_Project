{
 "metadata": {
  "language_info": {
   "codemirror_mode": {
    "name": "ipython",
    "version": 3
   },
   "file_extension": ".py",
   "mimetype": "text/x-python",
   "name": "python",
   "nbconvert_exporter": "python",
   "pygments_lexer": "ipython3",
   "version": "3.9.0-final"
  },
  "orig_nbformat": 2,
  "kernelspec": {
   "name": "python3",
   "display_name": "Python 3.9.0 64-bit",
   "metadata": {
    "interpreter": {
     "hash": "af698c02722c81864863429d928a3bd8a8dcc030c4156359d3ef8b980fb01319"
    }
   }
  }
 },
 "nbformat": 4,
 "nbformat_minor": 2,
 "cells": [
  {
   "cell_type": "code",
   "execution_count": 1,
   "metadata": {},
   "outputs": [],
   "source": [
    "import pandas as pd\n",
    "import numpy as np\n",
    "import sys \n",
    "import os \n",
    "import json\n",
    "from datetime import datetime"
   ]
  },
  {
   "cell_type": "code",
   "execution_count": 2,
   "metadata": {},
   "outputs": [],
   "source": [
    "root_path = os.path.dirname(os.getcwd())\n",
    "sys.path.append(root_path)\n",
    "sys.path = list(set(sys.path)) "
   ]
  },
  {
   "cell_type": "code",
   "execution_count": 3,
   "metadata": {},
   "outputs": [],
   "source": [
    "from src.utils.mining_data_tb import *"
   ]
  },
  {
   "cell_type": "code",
   "execution_count": 4,
   "metadata": {},
   "outputs": [
    {
     "output_type": "execute_result",
     "data": {
      "text/plain": [
       "  iso_code continent     location        date  total_cases  new_cases  \\\n",
       "0      AFG      Asia  Afghanistan  2020-02-24          1.0        1.0   \n",
       "1      AFG      Asia  Afghanistan  2020-02-25          1.0        0.0   \n",
       "2      AFG      Asia  Afghanistan  2020-02-26          1.0        0.0   \n",
       "3      AFG      Asia  Afghanistan  2020-02-27          1.0        0.0   \n",
       "4      AFG      Asia  Afghanistan  2020-02-28          1.0        0.0   \n",
       "\n",
       "   new_cases_smoothed  total_deaths  new_deaths  new_deaths_smoothed  ...  \\\n",
       "0                 NaN           NaN         NaN                  NaN  ...   \n",
       "1                 NaN           NaN         NaN                  NaN  ...   \n",
       "2                 NaN           NaN         NaN                  NaN  ...   \n",
       "3                 NaN           NaN         NaN                  NaN  ...   \n",
       "4                 NaN           NaN         NaN                  NaN  ...   \n",
       "\n",
       "   gdp_per_capita  extreme_poverty  cardiovasc_death_rate  \\\n",
       "0        1803.987              NaN                597.029   \n",
       "1        1803.987              NaN                597.029   \n",
       "2        1803.987              NaN                597.029   \n",
       "3        1803.987              NaN                597.029   \n",
       "4        1803.987              NaN                597.029   \n",
       "\n",
       "   diabetes_prevalence  female_smokers  male_smokers  handwashing_facilities  \\\n",
       "0                 9.59             NaN           NaN                  37.746   \n",
       "1                 9.59             NaN           NaN                  37.746   \n",
       "2                 9.59             NaN           NaN                  37.746   \n",
       "3                 9.59             NaN           NaN                  37.746   \n",
       "4                 9.59             NaN           NaN                  37.746   \n",
       "\n",
       "   hospital_beds_per_thousand  life_expectancy  human_development_index  \n",
       "0                         0.5            64.83                    0.498  \n",
       "1                         0.5            64.83                    0.498  \n",
       "2                         0.5            64.83                    0.498  \n",
       "3                         0.5            64.83                    0.498  \n",
       "4                         0.5            64.83                    0.498  \n",
       "\n",
       "[5 rows x 55 columns]"
      ],
      "text/html": "<div>\n<style scoped>\n    .dataframe tbody tr th:only-of-type {\n        vertical-align: middle;\n    }\n\n    .dataframe tbody tr th {\n        vertical-align: top;\n    }\n\n    .dataframe thead th {\n        text-align: right;\n    }\n</style>\n<table border=\"1\" class=\"dataframe\">\n  <thead>\n    <tr style=\"text-align: right;\">\n      <th></th>\n      <th>iso_code</th>\n      <th>continent</th>\n      <th>location</th>\n      <th>date</th>\n      <th>total_cases</th>\n      <th>new_cases</th>\n      <th>new_cases_smoothed</th>\n      <th>total_deaths</th>\n      <th>new_deaths</th>\n      <th>new_deaths_smoothed</th>\n      <th>...</th>\n      <th>gdp_per_capita</th>\n      <th>extreme_poverty</th>\n      <th>cardiovasc_death_rate</th>\n      <th>diabetes_prevalence</th>\n      <th>female_smokers</th>\n      <th>male_smokers</th>\n      <th>handwashing_facilities</th>\n      <th>hospital_beds_per_thousand</th>\n      <th>life_expectancy</th>\n      <th>human_development_index</th>\n    </tr>\n  </thead>\n  <tbody>\n    <tr>\n      <th>0</th>\n      <td>AFG</td>\n      <td>Asia</td>\n      <td>Afghanistan</td>\n      <td>2020-02-24</td>\n      <td>1.0</td>\n      <td>1.0</td>\n      <td>NaN</td>\n      <td>NaN</td>\n      <td>NaN</td>\n      <td>NaN</td>\n      <td>...</td>\n      <td>1803.987</td>\n      <td>NaN</td>\n      <td>597.029</td>\n      <td>9.59</td>\n      <td>NaN</td>\n      <td>NaN</td>\n      <td>37.746</td>\n      <td>0.5</td>\n      <td>64.83</td>\n      <td>0.498</td>\n    </tr>\n    <tr>\n      <th>1</th>\n      <td>AFG</td>\n      <td>Asia</td>\n      <td>Afghanistan</td>\n      <td>2020-02-25</td>\n      <td>1.0</td>\n      <td>0.0</td>\n      <td>NaN</td>\n      <td>NaN</td>\n      <td>NaN</td>\n      <td>NaN</td>\n      <td>...</td>\n      <td>1803.987</td>\n      <td>NaN</td>\n      <td>597.029</td>\n      <td>9.59</td>\n      <td>NaN</td>\n      <td>NaN</td>\n      <td>37.746</td>\n      <td>0.5</td>\n      <td>64.83</td>\n      <td>0.498</td>\n    </tr>\n    <tr>\n      <th>2</th>\n      <td>AFG</td>\n      <td>Asia</td>\n      <td>Afghanistan</td>\n      <td>2020-02-26</td>\n      <td>1.0</td>\n      <td>0.0</td>\n      <td>NaN</td>\n      <td>NaN</td>\n      <td>NaN</td>\n      <td>NaN</td>\n      <td>...</td>\n      <td>1803.987</td>\n      <td>NaN</td>\n      <td>597.029</td>\n      <td>9.59</td>\n      <td>NaN</td>\n      <td>NaN</td>\n      <td>37.746</td>\n      <td>0.5</td>\n      <td>64.83</td>\n      <td>0.498</td>\n    </tr>\n    <tr>\n      <th>3</th>\n      <td>AFG</td>\n      <td>Asia</td>\n      <td>Afghanistan</td>\n      <td>2020-02-27</td>\n      <td>1.0</td>\n      <td>0.0</td>\n      <td>NaN</td>\n      <td>NaN</td>\n      <td>NaN</td>\n      <td>NaN</td>\n      <td>...</td>\n      <td>1803.987</td>\n      <td>NaN</td>\n      <td>597.029</td>\n      <td>9.59</td>\n      <td>NaN</td>\n      <td>NaN</td>\n      <td>37.746</td>\n      <td>0.5</td>\n      <td>64.83</td>\n      <td>0.498</td>\n    </tr>\n    <tr>\n      <th>4</th>\n      <td>AFG</td>\n      <td>Asia</td>\n      <td>Afghanistan</td>\n      <td>2020-02-28</td>\n      <td>1.0</td>\n      <td>0.0</td>\n      <td>NaN</td>\n      <td>NaN</td>\n      <td>NaN</td>\n      <td>NaN</td>\n      <td>...</td>\n      <td>1803.987</td>\n      <td>NaN</td>\n      <td>597.029</td>\n      <td>9.59</td>\n      <td>NaN</td>\n      <td>NaN</td>\n      <td>37.746</td>\n      <td>0.5</td>\n      <td>64.83</td>\n      <td>0.498</td>\n    </tr>\n  </tbody>\n</table>\n<p>5 rows × 55 columns</p>\n</div>"
     },
     "metadata": {},
     "execution_count": 4
    }
   ],
   "source": [
    "data = pd.read_csv(\"https://covid.ourworldindata.org/data/owid-covid-data.csv\") #Boton derecho y copié la direccion de enlace\n",
    "data.head()"
   ]
  },
  {
   "cell_type": "code",
   "execution_count": 5,
   "metadata": {},
   "outputs": [
    {
     "output_type": "stream",
     "name": "stdout",
     "text": [
      "(1761, 55)\n"
     ]
    },
    {
     "output_type": "execute_result",
     "data": {
      "text/plain": [
       "      iso_code      continent       location        date  total_cases  \\\n",
       "19447      FRA         Europe         France  2020-01-24          2.0   \n",
       "19448      FRA         Europe         France  2020-01-25          3.0   \n",
       "19449      FRA         Europe         France  2020-01-26          3.0   \n",
       "19450      FRA         Europe         France  2020-01-27          3.0   \n",
       "19451      FRA         Europe         France  2020-01-28          4.0   \n",
       "...        ...            ...            ...         ...          ...   \n",
       "58308      USA  North America  United States  2021-01-16   23758855.0   \n",
       "58309      USA  North America  United States  2021-01-17   23936773.0   \n",
       "58310      USA  North America  United States  2021-01-18   24078772.0   \n",
       "58311      USA  North America  United States  2021-01-19   24256028.0   \n",
       "58312      USA  North America  United States  2021-01-20   24438723.0   \n",
       "\n",
       "       new_cases  new_cases_smoothed  total_deaths  new_deaths  \\\n",
       "19447        2.0                 NaN           NaN         NaN   \n",
       "19448        1.0                 NaN           NaN         NaN   \n",
       "19449        0.0                 NaN           NaN         NaN   \n",
       "19450        0.0                 NaN           NaN         NaN   \n",
       "19451        1.0                 NaN           NaN         NaN   \n",
       "...          ...                 ...           ...         ...   \n",
       "58308   202758.0          223582.571      395851.0      3352.0   \n",
       "58309   177918.0          218100.857      397600.0      1749.0   \n",
       "58310   141999.0          207914.429      399003.0      1403.0   \n",
       "58311   177256.0          201033.429      401772.0      2769.0   \n",
       "58312   182695.0          194251.857      406147.0      4375.0   \n",
       "\n",
       "       new_deaths_smoothed  ...  gdp_per_capita  extreme_poverty  \\\n",
       "19447                  NaN  ...       38605.671              NaN   \n",
       "19448                  NaN  ...       38605.671              NaN   \n",
       "19449                  NaN  ...       38605.671              NaN   \n",
       "19450                  NaN  ...       38605.671              NaN   \n",
       "19451                  NaN  ...       38605.671              NaN   \n",
       "...                    ...  ...             ...              ...   \n",
       "58308             3333.571  ...       54225.446              1.2   \n",
       "58309             3323.286  ...       54225.446              1.2   \n",
       "58310             3237.143  ...       54225.446              1.2   \n",
       "58311             2995.286  ...       54225.446              1.2   \n",
       "58312             3054.143  ...       54225.446              1.2   \n",
       "\n",
       "       cardiovasc_death_rate  diabetes_prevalence  female_smokers  \\\n",
       "19447                 86.060                 4.77            30.1   \n",
       "19448                 86.060                 4.77            30.1   \n",
       "19449                 86.060                 4.77            30.1   \n",
       "19450                 86.060                 4.77            30.1   \n",
       "19451                 86.060                 4.77            30.1   \n",
       "...                      ...                  ...             ...   \n",
       "58308                151.089                10.79            19.1   \n",
       "58309                151.089                10.79            19.1   \n",
       "58310                151.089                10.79            19.1   \n",
       "58311                151.089                10.79            19.1   \n",
       "58312                151.089                10.79            19.1   \n",
       "\n",
       "       male_smokers  handwashing_facilities  hospital_beds_per_thousand  \\\n",
       "19447          35.6                     NaN                        5.98   \n",
       "19448          35.6                     NaN                        5.98   \n",
       "19449          35.6                     NaN                        5.98   \n",
       "19450          35.6                     NaN                        5.98   \n",
       "19451          35.6                     NaN                        5.98   \n",
       "...             ...                     ...                         ...   \n",
       "58308          24.6                     NaN                        2.77   \n",
       "58309          24.6                     NaN                        2.77   \n",
       "58310          24.6                     NaN                        2.77   \n",
       "58311          24.6                     NaN                        2.77   \n",
       "58312          24.6                     NaN                        2.77   \n",
       "\n",
       "       life_expectancy  human_development_index  \n",
       "19447            82.66                    0.901  \n",
       "19448            82.66                    0.901  \n",
       "19449            82.66                    0.901  \n",
       "19450            82.66                    0.901  \n",
       "19451            82.66                    0.901  \n",
       "...                ...                      ...  \n",
       "58308            78.86                    0.924  \n",
       "58309            78.86                    0.924  \n",
       "58310            78.86                    0.924  \n",
       "58311            78.86                    0.924  \n",
       "58312            78.86                    0.924  \n",
       "\n",
       "[1761 rows x 55 columns]"
      ],
      "text/html": "<div>\n<style scoped>\n    .dataframe tbody tr th:only-of-type {\n        vertical-align: middle;\n    }\n\n    .dataframe tbody tr th {\n        vertical-align: top;\n    }\n\n    .dataframe thead th {\n        text-align: right;\n    }\n</style>\n<table border=\"1\" class=\"dataframe\">\n  <thead>\n    <tr style=\"text-align: right;\">\n      <th></th>\n      <th>iso_code</th>\n      <th>continent</th>\n      <th>location</th>\n      <th>date</th>\n      <th>total_cases</th>\n      <th>new_cases</th>\n      <th>new_cases_smoothed</th>\n      <th>total_deaths</th>\n      <th>new_deaths</th>\n      <th>new_deaths_smoothed</th>\n      <th>...</th>\n      <th>gdp_per_capita</th>\n      <th>extreme_poverty</th>\n      <th>cardiovasc_death_rate</th>\n      <th>diabetes_prevalence</th>\n      <th>female_smokers</th>\n      <th>male_smokers</th>\n      <th>handwashing_facilities</th>\n      <th>hospital_beds_per_thousand</th>\n      <th>life_expectancy</th>\n      <th>human_development_index</th>\n    </tr>\n  </thead>\n  <tbody>\n    <tr>\n      <th>19447</th>\n      <td>FRA</td>\n      <td>Europe</td>\n      <td>France</td>\n      <td>2020-01-24</td>\n      <td>2.0</td>\n      <td>2.0</td>\n      <td>NaN</td>\n      <td>NaN</td>\n      <td>NaN</td>\n      <td>NaN</td>\n      <td>...</td>\n      <td>38605.671</td>\n      <td>NaN</td>\n      <td>86.060</td>\n      <td>4.77</td>\n      <td>30.1</td>\n      <td>35.6</td>\n      <td>NaN</td>\n      <td>5.98</td>\n      <td>82.66</td>\n      <td>0.901</td>\n    </tr>\n    <tr>\n      <th>19448</th>\n      <td>FRA</td>\n      <td>Europe</td>\n      <td>France</td>\n      <td>2020-01-25</td>\n      <td>3.0</td>\n      <td>1.0</td>\n      <td>NaN</td>\n      <td>NaN</td>\n      <td>NaN</td>\n      <td>NaN</td>\n      <td>...</td>\n      <td>38605.671</td>\n      <td>NaN</td>\n      <td>86.060</td>\n      <td>4.77</td>\n      <td>30.1</td>\n      <td>35.6</td>\n      <td>NaN</td>\n      <td>5.98</td>\n      <td>82.66</td>\n      <td>0.901</td>\n    </tr>\n    <tr>\n      <th>19449</th>\n      <td>FRA</td>\n      <td>Europe</td>\n      <td>France</td>\n      <td>2020-01-26</td>\n      <td>3.0</td>\n      <td>0.0</td>\n      <td>NaN</td>\n      <td>NaN</td>\n      <td>NaN</td>\n      <td>NaN</td>\n      <td>...</td>\n      <td>38605.671</td>\n      <td>NaN</td>\n      <td>86.060</td>\n      <td>4.77</td>\n      <td>30.1</td>\n      <td>35.6</td>\n      <td>NaN</td>\n      <td>5.98</td>\n      <td>82.66</td>\n      <td>0.901</td>\n    </tr>\n    <tr>\n      <th>19450</th>\n      <td>FRA</td>\n      <td>Europe</td>\n      <td>France</td>\n      <td>2020-01-27</td>\n      <td>3.0</td>\n      <td>0.0</td>\n      <td>NaN</td>\n      <td>NaN</td>\n      <td>NaN</td>\n      <td>NaN</td>\n      <td>...</td>\n      <td>38605.671</td>\n      <td>NaN</td>\n      <td>86.060</td>\n      <td>4.77</td>\n      <td>30.1</td>\n      <td>35.6</td>\n      <td>NaN</td>\n      <td>5.98</td>\n      <td>82.66</td>\n      <td>0.901</td>\n    </tr>\n    <tr>\n      <th>19451</th>\n      <td>FRA</td>\n      <td>Europe</td>\n      <td>France</td>\n      <td>2020-01-28</td>\n      <td>4.0</td>\n      <td>1.0</td>\n      <td>NaN</td>\n      <td>NaN</td>\n      <td>NaN</td>\n      <td>NaN</td>\n      <td>...</td>\n      <td>38605.671</td>\n      <td>NaN</td>\n      <td>86.060</td>\n      <td>4.77</td>\n      <td>30.1</td>\n      <td>35.6</td>\n      <td>NaN</td>\n      <td>5.98</td>\n      <td>82.66</td>\n      <td>0.901</td>\n    </tr>\n    <tr>\n      <th>...</th>\n      <td>...</td>\n      <td>...</td>\n      <td>...</td>\n      <td>...</td>\n      <td>...</td>\n      <td>...</td>\n      <td>...</td>\n      <td>...</td>\n      <td>...</td>\n      <td>...</td>\n      <td>...</td>\n      <td>...</td>\n      <td>...</td>\n      <td>...</td>\n      <td>...</td>\n      <td>...</td>\n      <td>...</td>\n      <td>...</td>\n      <td>...</td>\n      <td>...</td>\n      <td>...</td>\n    </tr>\n    <tr>\n      <th>58308</th>\n      <td>USA</td>\n      <td>North America</td>\n      <td>United States</td>\n      <td>2021-01-16</td>\n      <td>23758855.0</td>\n      <td>202758.0</td>\n      <td>223582.571</td>\n      <td>395851.0</td>\n      <td>3352.0</td>\n      <td>3333.571</td>\n      <td>...</td>\n      <td>54225.446</td>\n      <td>1.2</td>\n      <td>151.089</td>\n      <td>10.79</td>\n      <td>19.1</td>\n      <td>24.6</td>\n      <td>NaN</td>\n      <td>2.77</td>\n      <td>78.86</td>\n      <td>0.924</td>\n    </tr>\n    <tr>\n      <th>58309</th>\n      <td>USA</td>\n      <td>North America</td>\n      <td>United States</td>\n      <td>2021-01-17</td>\n      <td>23936773.0</td>\n      <td>177918.0</td>\n      <td>218100.857</td>\n      <td>397600.0</td>\n      <td>1749.0</td>\n      <td>3323.286</td>\n      <td>...</td>\n      <td>54225.446</td>\n      <td>1.2</td>\n      <td>151.089</td>\n      <td>10.79</td>\n      <td>19.1</td>\n      <td>24.6</td>\n      <td>NaN</td>\n      <td>2.77</td>\n      <td>78.86</td>\n      <td>0.924</td>\n    </tr>\n    <tr>\n      <th>58310</th>\n      <td>USA</td>\n      <td>North America</td>\n      <td>United States</td>\n      <td>2021-01-18</td>\n      <td>24078772.0</td>\n      <td>141999.0</td>\n      <td>207914.429</td>\n      <td>399003.0</td>\n      <td>1403.0</td>\n      <td>3237.143</td>\n      <td>...</td>\n      <td>54225.446</td>\n      <td>1.2</td>\n      <td>151.089</td>\n      <td>10.79</td>\n      <td>19.1</td>\n      <td>24.6</td>\n      <td>NaN</td>\n      <td>2.77</td>\n      <td>78.86</td>\n      <td>0.924</td>\n    </tr>\n    <tr>\n      <th>58311</th>\n      <td>USA</td>\n      <td>North America</td>\n      <td>United States</td>\n      <td>2021-01-19</td>\n      <td>24256028.0</td>\n      <td>177256.0</td>\n      <td>201033.429</td>\n      <td>401772.0</td>\n      <td>2769.0</td>\n      <td>2995.286</td>\n      <td>...</td>\n      <td>54225.446</td>\n      <td>1.2</td>\n      <td>151.089</td>\n      <td>10.79</td>\n      <td>19.1</td>\n      <td>24.6</td>\n      <td>NaN</td>\n      <td>2.77</td>\n      <td>78.86</td>\n      <td>0.924</td>\n    </tr>\n    <tr>\n      <th>58312</th>\n      <td>USA</td>\n      <td>North America</td>\n      <td>United States</td>\n      <td>2021-01-20</td>\n      <td>24438723.0</td>\n      <td>182695.0</td>\n      <td>194251.857</td>\n      <td>406147.0</td>\n      <td>4375.0</td>\n      <td>3054.143</td>\n      <td>...</td>\n      <td>54225.446</td>\n      <td>1.2</td>\n      <td>151.089</td>\n      <td>10.79</td>\n      <td>19.1</td>\n      <td>24.6</td>\n      <td>NaN</td>\n      <td>2.77</td>\n      <td>78.86</td>\n      <td>0.924</td>\n    </tr>\n  </tbody>\n</table>\n<p>1761 rows × 55 columns</p>\n</div>"
     },
     "metadata": {},
     "execution_count": 5
    }
   ],
   "source": [
    "#Selecting assigned group B countries\n",
    "data_sc = data[(data[\"location\"] == \"India\") | (data[\"location\"] == \"Peru\") | (data[\"location\"] == \"United States\") | (data[\"location\"] == \"France\") | (data[\"location\"] == \"Spain\")]\n",
    "print(data_sc.shape)\n",
    "data_sc"
   ]
  },
  {
   "cell_type": "code",
   "execution_count": 6,
   "metadata": {},
   "outputs": [
    {
     "output_type": "execute_result",
     "data": {
      "text/plain": [
       "      iso_code      continent       location        date  total_cases  \\\n",
       "19447      FRA         Europe         France  2020-01-24          2.0   \n",
       "19448      FRA         Europe         France  2020-01-25          3.0   \n",
       "19449      FRA         Europe         France  2020-01-26          3.0   \n",
       "19450      FRA         Europe         France  2020-01-27          3.0   \n",
       "19451      FRA         Europe         France  2020-01-28          4.0   \n",
       "...        ...            ...            ...         ...          ...   \n",
       "58308      USA  North America  United States  2021-01-16   23758855.0   \n",
       "58309      USA  North America  United States  2021-01-17   23936773.0   \n",
       "58310      USA  North America  United States  2021-01-18   24078772.0   \n",
       "58311      USA  North America  United States  2021-01-19   24256028.0   \n",
       "58312      USA  North America  United States  2021-01-20   24438723.0   \n",
       "\n",
       "       total_cases_per_million  new_cases_smoothed  \\\n",
       "19447                    0.031                 NaN   \n",
       "19448                    0.046                 NaN   \n",
       "19449                    0.046                 NaN   \n",
       "19450                    0.046                 NaN   \n",
       "19451                    0.061                 NaN   \n",
       "...                        ...                 ...   \n",
       "58308                71778.444          223582.571   \n",
       "58309                72315.956          218100.857   \n",
       "58310                72744.953          207914.429   \n",
       "58311                73280.465          201033.429   \n",
       "58312                73832.410          194251.857   \n",
       "\n",
       "       new_cases_smoothed_per_million  new_deaths_smoothed  \\\n",
       "19447                             NaN                  NaN   \n",
       "19448                             NaN                  NaN   \n",
       "19449                             NaN                  NaN   \n",
       "19450                             NaN                  NaN   \n",
       "19451                             NaN                  NaN   \n",
       "...                               ...                  ...   \n",
       "58308                         675.471             3333.571   \n",
       "58309                         658.910             3323.286   \n",
       "58310                         628.135             3237.143   \n",
       "58311                         607.347             2995.286   \n",
       "58312                         586.859             3054.143   \n",
       "\n",
       "       new_deaths_smoothed_per_million  total_deaths  \\\n",
       "19447                              NaN           NaN   \n",
       "19448                              NaN           NaN   \n",
       "19449                              NaN           NaN   \n",
       "19450                              NaN           NaN   \n",
       "19451                              NaN           NaN   \n",
       "...                                ...           ...   \n",
       "58308                           10.071      395851.0   \n",
       "58309                           10.040      397600.0   \n",
       "58310                            9.780      399003.0   \n",
       "58311                            9.049      401772.0   \n",
       "58312                            9.227      406147.0   \n",
       "\n",
       "       total_deaths_per_million  life_expectancy  stringency_index  new_deaths  \n",
       "19447                       NaN            82.66             11.11         NaN  \n",
       "19448                       NaN            82.66             11.11         NaN  \n",
       "19449                       NaN            82.66             11.11         NaN  \n",
       "19450                       NaN            82.66             11.11         NaN  \n",
       "19451                       NaN            82.66             11.11         NaN  \n",
       "...                         ...              ...               ...         ...  \n",
       "58308                  1195.915            78.86             71.76      3352.0  \n",
       "58309                  1201.199            78.86             71.76      1749.0  \n",
       "58310                  1205.437            78.86             71.76      1403.0  \n",
       "58311                  1213.803            78.86               NaN      2769.0  \n",
       "58312                  1227.020            78.86               NaN      4375.0  \n",
       "\n",
       "[1761 rows x 15 columns]"
      ],
      "text/html": "<div>\n<style scoped>\n    .dataframe tbody tr th:only-of-type {\n        vertical-align: middle;\n    }\n\n    .dataframe tbody tr th {\n        vertical-align: top;\n    }\n\n    .dataframe thead th {\n        text-align: right;\n    }\n</style>\n<table border=\"1\" class=\"dataframe\">\n  <thead>\n    <tr style=\"text-align: right;\">\n      <th></th>\n      <th>iso_code</th>\n      <th>continent</th>\n      <th>location</th>\n      <th>date</th>\n      <th>total_cases</th>\n      <th>total_cases_per_million</th>\n      <th>new_cases_smoothed</th>\n      <th>new_cases_smoothed_per_million</th>\n      <th>new_deaths_smoothed</th>\n      <th>new_deaths_smoothed_per_million</th>\n      <th>total_deaths</th>\n      <th>total_deaths_per_million</th>\n      <th>life_expectancy</th>\n      <th>stringency_index</th>\n      <th>new_deaths</th>\n    </tr>\n  </thead>\n  <tbody>\n    <tr>\n      <th>19447</th>\n      <td>FRA</td>\n      <td>Europe</td>\n      <td>France</td>\n      <td>2020-01-24</td>\n      <td>2.0</td>\n      <td>0.031</td>\n      <td>NaN</td>\n      <td>NaN</td>\n      <td>NaN</td>\n      <td>NaN</td>\n      <td>NaN</td>\n      <td>NaN</td>\n      <td>82.66</td>\n      <td>11.11</td>\n      <td>NaN</td>\n    </tr>\n    <tr>\n      <th>19448</th>\n      <td>FRA</td>\n      <td>Europe</td>\n      <td>France</td>\n      <td>2020-01-25</td>\n      <td>3.0</td>\n      <td>0.046</td>\n      <td>NaN</td>\n      <td>NaN</td>\n      <td>NaN</td>\n      <td>NaN</td>\n      <td>NaN</td>\n      <td>NaN</td>\n      <td>82.66</td>\n      <td>11.11</td>\n      <td>NaN</td>\n    </tr>\n    <tr>\n      <th>19449</th>\n      <td>FRA</td>\n      <td>Europe</td>\n      <td>France</td>\n      <td>2020-01-26</td>\n      <td>3.0</td>\n      <td>0.046</td>\n      <td>NaN</td>\n      <td>NaN</td>\n      <td>NaN</td>\n      <td>NaN</td>\n      <td>NaN</td>\n      <td>NaN</td>\n      <td>82.66</td>\n      <td>11.11</td>\n      <td>NaN</td>\n    </tr>\n    <tr>\n      <th>19450</th>\n      <td>FRA</td>\n      <td>Europe</td>\n      <td>France</td>\n      <td>2020-01-27</td>\n      <td>3.0</td>\n      <td>0.046</td>\n      <td>NaN</td>\n      <td>NaN</td>\n      <td>NaN</td>\n      <td>NaN</td>\n      <td>NaN</td>\n      <td>NaN</td>\n      <td>82.66</td>\n      <td>11.11</td>\n      <td>NaN</td>\n    </tr>\n    <tr>\n      <th>19451</th>\n      <td>FRA</td>\n      <td>Europe</td>\n      <td>France</td>\n      <td>2020-01-28</td>\n      <td>4.0</td>\n      <td>0.061</td>\n      <td>NaN</td>\n      <td>NaN</td>\n      <td>NaN</td>\n      <td>NaN</td>\n      <td>NaN</td>\n      <td>NaN</td>\n      <td>82.66</td>\n      <td>11.11</td>\n      <td>NaN</td>\n    </tr>\n    <tr>\n      <th>...</th>\n      <td>...</td>\n      <td>...</td>\n      <td>...</td>\n      <td>...</td>\n      <td>...</td>\n      <td>...</td>\n      <td>...</td>\n      <td>...</td>\n      <td>...</td>\n      <td>...</td>\n      <td>...</td>\n      <td>...</td>\n      <td>...</td>\n      <td>...</td>\n      <td>...</td>\n    </tr>\n    <tr>\n      <th>58308</th>\n      <td>USA</td>\n      <td>North America</td>\n      <td>United States</td>\n      <td>2021-01-16</td>\n      <td>23758855.0</td>\n      <td>71778.444</td>\n      <td>223582.571</td>\n      <td>675.471</td>\n      <td>3333.571</td>\n      <td>10.071</td>\n      <td>395851.0</td>\n      <td>1195.915</td>\n      <td>78.86</td>\n      <td>71.76</td>\n      <td>3352.0</td>\n    </tr>\n    <tr>\n      <th>58309</th>\n      <td>USA</td>\n      <td>North America</td>\n      <td>United States</td>\n      <td>2021-01-17</td>\n      <td>23936773.0</td>\n      <td>72315.956</td>\n      <td>218100.857</td>\n      <td>658.910</td>\n      <td>3323.286</td>\n      <td>10.040</td>\n      <td>397600.0</td>\n      <td>1201.199</td>\n      <td>78.86</td>\n      <td>71.76</td>\n      <td>1749.0</td>\n    </tr>\n    <tr>\n      <th>58310</th>\n      <td>USA</td>\n      <td>North America</td>\n      <td>United States</td>\n      <td>2021-01-18</td>\n      <td>24078772.0</td>\n      <td>72744.953</td>\n      <td>207914.429</td>\n      <td>628.135</td>\n      <td>3237.143</td>\n      <td>9.780</td>\n      <td>399003.0</td>\n      <td>1205.437</td>\n      <td>78.86</td>\n      <td>71.76</td>\n      <td>1403.0</td>\n    </tr>\n    <tr>\n      <th>58311</th>\n      <td>USA</td>\n      <td>North America</td>\n      <td>United States</td>\n      <td>2021-01-19</td>\n      <td>24256028.0</td>\n      <td>73280.465</td>\n      <td>201033.429</td>\n      <td>607.347</td>\n      <td>2995.286</td>\n      <td>9.049</td>\n      <td>401772.0</td>\n      <td>1213.803</td>\n      <td>78.86</td>\n      <td>NaN</td>\n      <td>2769.0</td>\n    </tr>\n    <tr>\n      <th>58312</th>\n      <td>USA</td>\n      <td>North America</td>\n      <td>United States</td>\n      <td>2021-01-20</td>\n      <td>24438723.0</td>\n      <td>73832.410</td>\n      <td>194251.857</td>\n      <td>586.859</td>\n      <td>3054.143</td>\n      <td>9.227</td>\n      <td>406147.0</td>\n      <td>1227.020</td>\n      <td>78.86</td>\n      <td>NaN</td>\n      <td>4375.0</td>\n    </tr>\n  </tbody>\n</table>\n<p>1761 rows × 15 columns</p>\n</div>"
     },
     "metadata": {},
     "execution_count": 6
    }
   ],
   "source": [
    "#Selecting the columns to explore and analyse.\n",
    "data_final = data_sc[[\"iso_code\",\"continent\",\"location\",\"date\",\"total_cases\",\"total_cases_per_million\",\"new_cases_smoothed\",\"new_cases_smoothed_per_million\",\"new_deaths_smoothed\",\"new_deaths_smoothed_per_million\",\"total_deaths\",\"total_deaths_per_million\",\"life_expectancy\",\"stringency_index\",\"new_deaths\"]]\n",
    "data_final"
   ]
  },
  {
   "cell_type": "code",
   "execution_count": 7,
   "metadata": {},
   "outputs": [],
   "source": [
    "#Changing date column to datatime\n",
    "changing_dates(df=data_final,name_column=\"date\")  "
   ]
  },
  {
   "cell_type": "code",
   "execution_count": 8,
   "metadata": {},
   "outputs": [
    {
     "output_type": "execute_result",
     "data": {
      "text/plain": [
       "(11, 15)"
      ]
     },
     "metadata": {},
     "execution_count": 8
    }
   ],
   "source": [
    "menor_0 = data_final.loc[data_final[\"new_deaths\"] < 0,:]\n",
    "menor_0.shape"
   ]
  },
  {
   "cell_type": "code",
   "execution_count": 9,
   "metadata": {},
   "outputs": [
    {
     "output_type": "execute_result",
     "data": {
      "text/plain": [
       "      iso_code continent location       date  total_cases  \\\n",
       "19563      FRA    Europe   France 2020-05-19     182648.0   \n",
       "19568      FRA    Europe   France 2020-05-24     184260.0   \n",
       "19610      FRA    Europe   France 2020-07-05     206681.0   \n",
       "19626      FRA    Europe   France 2020-07-21     216684.0   \n",
       "19671      FRA    Europe   France 2020-09-04     349333.0   \n",
       "19722      FRA    Europe   France 2020-10-25    1138166.0   \n",
       "19732      FRA    Europe   France 2020-11-04    1593159.0   \n",
       "19770      FRA    Europe   France 2020-12-12    2407079.0   \n",
       "24754      IND      Asia    India 2020-03-21        330.0   \n",
       "51441      ESP    Europe    Spain 2020-05-25     235400.0   \n",
       "51520      ESP    Europe    Spain 2020-08-12     329784.0   \n",
       "\n",
       "       total_cases_per_million  new_cases_smoothed  \\\n",
       "19563                 2798.195             453.714   \n",
       "19568                 2822.891             365.286   \n",
       "19610                 3166.384             503.286   \n",
       "19626                 3319.631             685.429   \n",
       "19671                 5351.834            6016.000   \n",
       "19722                17436.874           28231.143   \n",
       "19732                24407.435           44278.714   \n",
       "19770                36876.812           10061.857   \n",
       "24754                    0.239              32.571   \n",
       "51441                 5034.779             542.000   \n",
       "51520                 7053.482            3431.000   \n",
       "\n",
       "       new_cases_smoothed_per_million  new_deaths_smoothed  \\\n",
       "19563                           6.951              147.286   \n",
       "19568                           5.596               37.000   \n",
       "19610                           7.710               16.286   \n",
       "19626                          10.501               18.857   \n",
       "19671                          92.166               12.857   \n",
       "19722                         432.505              166.571   \n",
       "19732                         678.357              415.429   \n",
       "19770                         154.149              371.143   \n",
       "24754                           0.024                0.286   \n",
       "51441                          11.592             -125.000   \n",
       "51520                          73.383               11.429   \n",
       "\n",
       "       new_deaths_smoothed_per_million  total_deaths  \\\n",
       "19563                            2.256       28025.0   \n",
       "19568                            0.567       28372.0   \n",
       "19610                            0.249       29895.0   \n",
       "19626                            0.289       30169.0   \n",
       "19671                            0.197       30696.0   \n",
       "19722                            2.552       34649.0   \n",
       "19732                            6.364       38734.0   \n",
       "19770                            5.686       57671.0   \n",
       "24754                            0.000           4.0   \n",
       "51441                           -2.674       26834.0   \n",
       "51520                            0.244       28579.0   \n",
       "\n",
       "       total_deaths_per_million  life_expectancy  stringency_index  new_deaths  \n",
       "19563                   429.347            82.66             76.85      -217.0  \n",
       "19568                   434.663            82.66             76.85       -80.0  \n",
       "19610                   457.996            82.66             51.85        -1.0  \n",
       "19626                   462.194            82.66             46.30       -13.0  \n",
       "19671                   470.267            82.66             48.61       -21.0  \n",
       "19722                   530.828            82.66             49.54       -21.0  \n",
       "19732                   593.411            82.66             78.70       -31.0  \n",
       "19770                   883.528            82.66             75.00        -1.0  \n",
       "24754                     0.003            69.66             76.39        -1.0  \n",
       "51441                   573.931            83.56             75.46     -1918.0  \n",
       "51520                   611.253            83.56             60.65        -2.0  "
      ],
      "text/html": "<div>\n<style scoped>\n    .dataframe tbody tr th:only-of-type {\n        vertical-align: middle;\n    }\n\n    .dataframe tbody tr th {\n        vertical-align: top;\n    }\n\n    .dataframe thead th {\n        text-align: right;\n    }\n</style>\n<table border=\"1\" class=\"dataframe\">\n  <thead>\n    <tr style=\"text-align: right;\">\n      <th></th>\n      <th>iso_code</th>\n      <th>continent</th>\n      <th>location</th>\n      <th>date</th>\n      <th>total_cases</th>\n      <th>total_cases_per_million</th>\n      <th>new_cases_smoothed</th>\n      <th>new_cases_smoothed_per_million</th>\n      <th>new_deaths_smoothed</th>\n      <th>new_deaths_smoothed_per_million</th>\n      <th>total_deaths</th>\n      <th>total_deaths_per_million</th>\n      <th>life_expectancy</th>\n      <th>stringency_index</th>\n      <th>new_deaths</th>\n    </tr>\n  </thead>\n  <tbody>\n    <tr>\n      <th>19563</th>\n      <td>FRA</td>\n      <td>Europe</td>\n      <td>France</td>\n      <td>2020-05-19</td>\n      <td>182648.0</td>\n      <td>2798.195</td>\n      <td>453.714</td>\n      <td>6.951</td>\n      <td>147.286</td>\n      <td>2.256</td>\n      <td>28025.0</td>\n      <td>429.347</td>\n      <td>82.66</td>\n      <td>76.85</td>\n      <td>-217.0</td>\n    </tr>\n    <tr>\n      <th>19568</th>\n      <td>FRA</td>\n      <td>Europe</td>\n      <td>France</td>\n      <td>2020-05-24</td>\n      <td>184260.0</td>\n      <td>2822.891</td>\n      <td>365.286</td>\n      <td>5.596</td>\n      <td>37.000</td>\n      <td>0.567</td>\n      <td>28372.0</td>\n      <td>434.663</td>\n      <td>82.66</td>\n      <td>76.85</td>\n      <td>-80.0</td>\n    </tr>\n    <tr>\n      <th>19610</th>\n      <td>FRA</td>\n      <td>Europe</td>\n      <td>France</td>\n      <td>2020-07-05</td>\n      <td>206681.0</td>\n      <td>3166.384</td>\n      <td>503.286</td>\n      <td>7.710</td>\n      <td>16.286</td>\n      <td>0.249</td>\n      <td>29895.0</td>\n      <td>457.996</td>\n      <td>82.66</td>\n      <td>51.85</td>\n      <td>-1.0</td>\n    </tr>\n    <tr>\n      <th>19626</th>\n      <td>FRA</td>\n      <td>Europe</td>\n      <td>France</td>\n      <td>2020-07-21</td>\n      <td>216684.0</td>\n      <td>3319.631</td>\n      <td>685.429</td>\n      <td>10.501</td>\n      <td>18.857</td>\n      <td>0.289</td>\n      <td>30169.0</td>\n      <td>462.194</td>\n      <td>82.66</td>\n      <td>46.30</td>\n      <td>-13.0</td>\n    </tr>\n    <tr>\n      <th>19671</th>\n      <td>FRA</td>\n      <td>Europe</td>\n      <td>France</td>\n      <td>2020-09-04</td>\n      <td>349333.0</td>\n      <td>5351.834</td>\n      <td>6016.000</td>\n      <td>92.166</td>\n      <td>12.857</td>\n      <td>0.197</td>\n      <td>30696.0</td>\n      <td>470.267</td>\n      <td>82.66</td>\n      <td>48.61</td>\n      <td>-21.0</td>\n    </tr>\n    <tr>\n      <th>19722</th>\n      <td>FRA</td>\n      <td>Europe</td>\n      <td>France</td>\n      <td>2020-10-25</td>\n      <td>1138166.0</td>\n      <td>17436.874</td>\n      <td>28231.143</td>\n      <td>432.505</td>\n      <td>166.571</td>\n      <td>2.552</td>\n      <td>34649.0</td>\n      <td>530.828</td>\n      <td>82.66</td>\n      <td>49.54</td>\n      <td>-21.0</td>\n    </tr>\n    <tr>\n      <th>19732</th>\n      <td>FRA</td>\n      <td>Europe</td>\n      <td>France</td>\n      <td>2020-11-04</td>\n      <td>1593159.0</td>\n      <td>24407.435</td>\n      <td>44278.714</td>\n      <td>678.357</td>\n      <td>415.429</td>\n      <td>6.364</td>\n      <td>38734.0</td>\n      <td>593.411</td>\n      <td>82.66</td>\n      <td>78.70</td>\n      <td>-31.0</td>\n    </tr>\n    <tr>\n      <th>19770</th>\n      <td>FRA</td>\n      <td>Europe</td>\n      <td>France</td>\n      <td>2020-12-12</td>\n      <td>2407079.0</td>\n      <td>36876.812</td>\n      <td>10061.857</td>\n      <td>154.149</td>\n      <td>371.143</td>\n      <td>5.686</td>\n      <td>57671.0</td>\n      <td>883.528</td>\n      <td>82.66</td>\n      <td>75.00</td>\n      <td>-1.0</td>\n    </tr>\n    <tr>\n      <th>24754</th>\n      <td>IND</td>\n      <td>Asia</td>\n      <td>India</td>\n      <td>2020-03-21</td>\n      <td>330.0</td>\n      <td>0.239</td>\n      <td>32.571</td>\n      <td>0.024</td>\n      <td>0.286</td>\n      <td>0.000</td>\n      <td>4.0</td>\n      <td>0.003</td>\n      <td>69.66</td>\n      <td>76.39</td>\n      <td>-1.0</td>\n    </tr>\n    <tr>\n      <th>51441</th>\n      <td>ESP</td>\n      <td>Europe</td>\n      <td>Spain</td>\n      <td>2020-05-25</td>\n      <td>235400.0</td>\n      <td>5034.779</td>\n      <td>542.000</td>\n      <td>11.592</td>\n      <td>-125.000</td>\n      <td>-2.674</td>\n      <td>26834.0</td>\n      <td>573.931</td>\n      <td>83.56</td>\n      <td>75.46</td>\n      <td>-1918.0</td>\n    </tr>\n    <tr>\n      <th>51520</th>\n      <td>ESP</td>\n      <td>Europe</td>\n      <td>Spain</td>\n      <td>2020-08-12</td>\n      <td>329784.0</td>\n      <td>7053.482</td>\n      <td>3431.000</td>\n      <td>73.383</td>\n      <td>11.429</td>\n      <td>0.244</td>\n      <td>28579.0</td>\n      <td>611.253</td>\n      <td>83.56</td>\n      <td>60.65</td>\n      <td>-2.0</td>\n    </tr>\n  </tbody>\n</table>\n</div>"
     },
     "metadata": {},
     "execution_count": 9
    }
   ],
   "source": [
    "menor_0"
   ]
  },
  {
   "cell_type": "code",
   "execution_count": 10,
   "metadata": {},
   "outputs": [
    {
     "output_type": "execute_result",
     "data": {
      "text/plain": [
       "      iso_code continent location       date  total_cases  \\\n",
       "51436      ESP    Europe    Spain 2020-05-20     232555.0   \n",
       "51437      ESP    Europe    Spain 2020-05-21     233037.0   \n",
       "51438      ESP    Europe    Spain 2020-05-22     234824.0   \n",
       "51439      ESP    Europe    Spain 2020-05-23     235290.0   \n",
       "51440      ESP    Europe    Spain 2020-05-24     235772.0   \n",
       "51441      ESP    Europe    Spain 2020-05-25     235400.0   \n",
       "51442      ESP    Europe    Spain 2020-05-26     236259.0   \n",
       "51443      ESP    Europe    Spain 2020-05-27     236259.0   \n",
       "51444      ESP    Europe    Spain 2020-05-28     237906.0   \n",
       "51445      ESP    Europe    Spain 2020-05-29     238564.0   \n",
       "51446      ESP    Europe    Spain 2020-05-30     239228.0   \n",
       "\n",
       "       total_cases_per_million  new_cases_smoothed  \\\n",
       "51436                 4973.930             552.000   \n",
       "51437                 4984.239             499.571   \n",
       "51438                 5022.459             663.000   \n",
       "51439                 5032.426             656.000   \n",
       "51440                 5042.735             724.857   \n",
       "51441                 5034.779             542.000   \n",
       "51442                 5053.151             603.143   \n",
       "51443                 5053.151             529.143   \n",
       "51444                 5088.378             695.571   \n",
       "51445                 5102.451             534.286   \n",
       "51446                 5116.653             562.571   \n",
       "\n",
       "       new_cases_smoothed_per_million  new_deaths_smoothed  \\\n",
       "51436                          11.806              112.000   \n",
       "51437                          10.685               88.429   \n",
       "51438                          14.180              167.000   \n",
       "51439                          14.031              159.286   \n",
       "51440                          15.503              169.857   \n",
       "51441                          11.592             -125.000   \n",
       "51442                          12.900              -94.429   \n",
       "51443                          11.317             -110.143   \n",
       "51444                          14.877             -117.286   \n",
       "51445                          11.427             -215.286   \n",
       "51446                          12.032             -221.857   \n",
       "\n",
       "       new_deaths_smoothed_per_million  total_deaths  \\\n",
       "51436                            2.395       27888.0   \n",
       "51437                            1.891       27940.0   \n",
       "51438                            3.572       28628.0   \n",
       "51439                            3.407       28678.0   \n",
       "51440                            3.633       28752.0   \n",
       "51441                           -2.674       26834.0   \n",
       "51442                           -2.020       27117.0   \n",
       "51443                           -2.356       27117.0   \n",
       "51444                           -2.509       27119.0   \n",
       "51445                           -4.605       27121.0   \n",
       "51446                           -4.745       27125.0   \n",
       "\n",
       "       total_deaths_per_million  life_expectancy  stringency_index  new_deaths  \n",
       "51436                   596.474            83.56             79.17       110.0  \n",
       "51437                   597.586            83.56             79.17        52.0  \n",
       "51438                   612.301            83.56             75.46       688.0  \n",
       "51439                   613.370            83.56             75.46        50.0  \n",
       "51440                   614.953            83.56             75.46        74.0  \n",
       "51441                   573.931            83.56             75.46     -1918.0  \n",
       "51442                   579.983            83.56             71.76       283.0  \n",
       "51443                   579.983            83.56             68.06         0.0  \n",
       "51444                   580.026            83.56             68.06         2.0  \n",
       "51445                   580.069            83.56             68.06         2.0  \n",
       "51446                   580.155            83.56             68.06         4.0  "
      ],
      "text/html": "<div>\n<style scoped>\n    .dataframe tbody tr th:only-of-type {\n        vertical-align: middle;\n    }\n\n    .dataframe tbody tr th {\n        vertical-align: top;\n    }\n\n    .dataframe thead th {\n        text-align: right;\n    }\n</style>\n<table border=\"1\" class=\"dataframe\">\n  <thead>\n    <tr style=\"text-align: right;\">\n      <th></th>\n      <th>iso_code</th>\n      <th>continent</th>\n      <th>location</th>\n      <th>date</th>\n      <th>total_cases</th>\n      <th>total_cases_per_million</th>\n      <th>new_cases_smoothed</th>\n      <th>new_cases_smoothed_per_million</th>\n      <th>new_deaths_smoothed</th>\n      <th>new_deaths_smoothed_per_million</th>\n      <th>total_deaths</th>\n      <th>total_deaths_per_million</th>\n      <th>life_expectancy</th>\n      <th>stringency_index</th>\n      <th>new_deaths</th>\n    </tr>\n  </thead>\n  <tbody>\n    <tr>\n      <th>51436</th>\n      <td>ESP</td>\n      <td>Europe</td>\n      <td>Spain</td>\n      <td>2020-05-20</td>\n      <td>232555.0</td>\n      <td>4973.930</td>\n      <td>552.000</td>\n      <td>11.806</td>\n      <td>112.000</td>\n      <td>2.395</td>\n      <td>27888.0</td>\n      <td>596.474</td>\n      <td>83.56</td>\n      <td>79.17</td>\n      <td>110.0</td>\n    </tr>\n    <tr>\n      <th>51437</th>\n      <td>ESP</td>\n      <td>Europe</td>\n      <td>Spain</td>\n      <td>2020-05-21</td>\n      <td>233037.0</td>\n      <td>4984.239</td>\n      <td>499.571</td>\n      <td>10.685</td>\n      <td>88.429</td>\n      <td>1.891</td>\n      <td>27940.0</td>\n      <td>597.586</td>\n      <td>83.56</td>\n      <td>79.17</td>\n      <td>52.0</td>\n    </tr>\n    <tr>\n      <th>51438</th>\n      <td>ESP</td>\n      <td>Europe</td>\n      <td>Spain</td>\n      <td>2020-05-22</td>\n      <td>234824.0</td>\n      <td>5022.459</td>\n      <td>663.000</td>\n      <td>14.180</td>\n      <td>167.000</td>\n      <td>3.572</td>\n      <td>28628.0</td>\n      <td>612.301</td>\n      <td>83.56</td>\n      <td>75.46</td>\n      <td>688.0</td>\n    </tr>\n    <tr>\n      <th>51439</th>\n      <td>ESP</td>\n      <td>Europe</td>\n      <td>Spain</td>\n      <td>2020-05-23</td>\n      <td>235290.0</td>\n      <td>5032.426</td>\n      <td>656.000</td>\n      <td>14.031</td>\n      <td>159.286</td>\n      <td>3.407</td>\n      <td>28678.0</td>\n      <td>613.370</td>\n      <td>83.56</td>\n      <td>75.46</td>\n      <td>50.0</td>\n    </tr>\n    <tr>\n      <th>51440</th>\n      <td>ESP</td>\n      <td>Europe</td>\n      <td>Spain</td>\n      <td>2020-05-24</td>\n      <td>235772.0</td>\n      <td>5042.735</td>\n      <td>724.857</td>\n      <td>15.503</td>\n      <td>169.857</td>\n      <td>3.633</td>\n      <td>28752.0</td>\n      <td>614.953</td>\n      <td>83.56</td>\n      <td>75.46</td>\n      <td>74.0</td>\n    </tr>\n    <tr>\n      <th>51441</th>\n      <td>ESP</td>\n      <td>Europe</td>\n      <td>Spain</td>\n      <td>2020-05-25</td>\n      <td>235400.0</td>\n      <td>5034.779</td>\n      <td>542.000</td>\n      <td>11.592</td>\n      <td>-125.000</td>\n      <td>-2.674</td>\n      <td>26834.0</td>\n      <td>573.931</td>\n      <td>83.56</td>\n      <td>75.46</td>\n      <td>-1918.0</td>\n    </tr>\n    <tr>\n      <th>51442</th>\n      <td>ESP</td>\n      <td>Europe</td>\n      <td>Spain</td>\n      <td>2020-05-26</td>\n      <td>236259.0</td>\n      <td>5053.151</td>\n      <td>603.143</td>\n      <td>12.900</td>\n      <td>-94.429</td>\n      <td>-2.020</td>\n      <td>27117.0</td>\n      <td>579.983</td>\n      <td>83.56</td>\n      <td>71.76</td>\n      <td>283.0</td>\n    </tr>\n    <tr>\n      <th>51443</th>\n      <td>ESP</td>\n      <td>Europe</td>\n      <td>Spain</td>\n      <td>2020-05-27</td>\n      <td>236259.0</td>\n      <td>5053.151</td>\n      <td>529.143</td>\n      <td>11.317</td>\n      <td>-110.143</td>\n      <td>-2.356</td>\n      <td>27117.0</td>\n      <td>579.983</td>\n      <td>83.56</td>\n      <td>68.06</td>\n      <td>0.0</td>\n    </tr>\n    <tr>\n      <th>51444</th>\n      <td>ESP</td>\n      <td>Europe</td>\n      <td>Spain</td>\n      <td>2020-05-28</td>\n      <td>237906.0</td>\n      <td>5088.378</td>\n      <td>695.571</td>\n      <td>14.877</td>\n      <td>-117.286</td>\n      <td>-2.509</td>\n      <td>27119.0</td>\n      <td>580.026</td>\n      <td>83.56</td>\n      <td>68.06</td>\n      <td>2.0</td>\n    </tr>\n    <tr>\n      <th>51445</th>\n      <td>ESP</td>\n      <td>Europe</td>\n      <td>Spain</td>\n      <td>2020-05-29</td>\n      <td>238564.0</td>\n      <td>5102.451</td>\n      <td>534.286</td>\n      <td>11.427</td>\n      <td>-215.286</td>\n      <td>-4.605</td>\n      <td>27121.0</td>\n      <td>580.069</td>\n      <td>83.56</td>\n      <td>68.06</td>\n      <td>2.0</td>\n    </tr>\n    <tr>\n      <th>51446</th>\n      <td>ESP</td>\n      <td>Europe</td>\n      <td>Spain</td>\n      <td>2020-05-30</td>\n      <td>239228.0</td>\n      <td>5116.653</td>\n      <td>562.571</td>\n      <td>12.032</td>\n      <td>-221.857</td>\n      <td>-4.745</td>\n      <td>27125.0</td>\n      <td>580.155</td>\n      <td>83.56</td>\n      <td>68.06</td>\n      <td>4.0</td>\n    </tr>\n  </tbody>\n</table>\n</div>"
     },
     "metadata": {},
     "execution_count": 10
    }
   ],
   "source": [
    "start_date = \"2020-05-20\"\n",
    "end_date = \"2020-05-30\"\n",
    "\n",
    "after_start_date = data_final[\"date\"] >= start_date\n",
    "before_end_date = data_final[\"date\"] <= end_date\n",
    "between_two_dates = after_start_date & before_end_date\n",
    "filtered_dates = data_final.loc[between_two_dates]\n",
    "filtered_dates.loc[filtered_dates[\"location\"] == \"Spain\",:]"
   ]
  }
 ]
}