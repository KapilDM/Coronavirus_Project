{
 "metadata": {
  "language_info": {
   "codemirror_mode": {
    "name": "ipython",
    "version": 3
   },
   "file_extension": ".py",
   "mimetype": "text/x-python",
   "name": "python",
   "nbconvert_exporter": "python",
   "pygments_lexer": "ipython3",
   "version": "3.9.0-final"
  },
  "orig_nbformat": 2,
  "kernelspec": {
   "name": "python3",
   "display_name": "Python 3.9.0 64-bit",
   "metadata": {
    "interpreter": {
     "hash": "af698c02722c81864863429d928a3bd8a8dcc030c4156359d3ef8b980fb01319"
    }
   }
  }
 },
 "nbformat": 4,
 "nbformat_minor": 2,
 "cells": [
  {
   "cell_type": "code",
   "execution_count": 10,
   "metadata": {},
   "outputs": [],
   "source": [
    "import pandas as pd\n",
    "import numpy as np\n",
    "import sys \n",
    "import os \n",
    "import json\n",
    "from datetime import datetime"
   ]
  },
  {
   "cell_type": "code",
   "execution_count": 11,
   "metadata": {},
   "outputs": [],
   "source": [
    "root_path = os.path.dirname(os.getcwd())\n",
    "sys.path.append(root_path)\n",
    "sys.path = list(set(sys.path)) "
   ]
  },
  {
   "cell_type": "code",
   "execution_count": 12,
   "metadata": {},
   "outputs": [],
   "source": [
    "from src.utils.mining_data_tb import *\n"
   ]
  },
  {
   "cell_type": "code",
   "execution_count": 13,
   "metadata": {},
   "outputs": [
    {
     "output_type": "execute_result",
     "data": {
      "text/plain": [
       "  iso_code continent     location        date  total_cases  new_cases  \\\n",
       "0      AFG      Asia  Afghanistan  2020-02-24          1.0        1.0   \n",
       "1      AFG      Asia  Afghanistan  2020-02-25          1.0        0.0   \n",
       "2      AFG      Asia  Afghanistan  2020-02-26          1.0        0.0   \n",
       "3      AFG      Asia  Afghanistan  2020-02-27          1.0        0.0   \n",
       "4      AFG      Asia  Afghanistan  2020-02-28          1.0        0.0   \n",
       "\n",
       "   new_cases_smoothed  total_deaths  new_deaths  new_deaths_smoothed  ...  \\\n",
       "0                 NaN           NaN         NaN                  NaN  ...   \n",
       "1                 NaN           NaN         NaN                  NaN  ...   \n",
       "2                 NaN           NaN         NaN                  NaN  ...   \n",
       "3                 NaN           NaN         NaN                  NaN  ...   \n",
       "4                 NaN           NaN         NaN                  NaN  ...   \n",
       "\n",
       "   gdp_per_capita  extreme_poverty  cardiovasc_death_rate  \\\n",
       "0        1803.987              NaN                597.029   \n",
       "1        1803.987              NaN                597.029   \n",
       "2        1803.987              NaN                597.029   \n",
       "3        1803.987              NaN                597.029   \n",
       "4        1803.987              NaN                597.029   \n",
       "\n",
       "   diabetes_prevalence  female_smokers  male_smokers  handwashing_facilities  \\\n",
       "0                 9.59             NaN           NaN                  37.746   \n",
       "1                 9.59             NaN           NaN                  37.746   \n",
       "2                 9.59             NaN           NaN                  37.746   \n",
       "3                 9.59             NaN           NaN                  37.746   \n",
       "4                 9.59             NaN           NaN                  37.746   \n",
       "\n",
       "   hospital_beds_per_thousand  life_expectancy  human_development_index  \n",
       "0                         0.5            64.83                    0.498  \n",
       "1                         0.5            64.83                    0.498  \n",
       "2                         0.5            64.83                    0.498  \n",
       "3                         0.5            64.83                    0.498  \n",
       "4                         0.5            64.83                    0.498  \n",
       "\n",
       "[5 rows x 55 columns]"
      ],
      "text/html": "<div>\n<style scoped>\n    .dataframe tbody tr th:only-of-type {\n        vertical-align: middle;\n    }\n\n    .dataframe tbody tr th {\n        vertical-align: top;\n    }\n\n    .dataframe thead th {\n        text-align: right;\n    }\n</style>\n<table border=\"1\" class=\"dataframe\">\n  <thead>\n    <tr style=\"text-align: right;\">\n      <th></th>\n      <th>iso_code</th>\n      <th>continent</th>\n      <th>location</th>\n      <th>date</th>\n      <th>total_cases</th>\n      <th>new_cases</th>\n      <th>new_cases_smoothed</th>\n      <th>total_deaths</th>\n      <th>new_deaths</th>\n      <th>new_deaths_smoothed</th>\n      <th>...</th>\n      <th>gdp_per_capita</th>\n      <th>extreme_poverty</th>\n      <th>cardiovasc_death_rate</th>\n      <th>diabetes_prevalence</th>\n      <th>female_smokers</th>\n      <th>male_smokers</th>\n      <th>handwashing_facilities</th>\n      <th>hospital_beds_per_thousand</th>\n      <th>life_expectancy</th>\n      <th>human_development_index</th>\n    </tr>\n  </thead>\n  <tbody>\n    <tr>\n      <th>0</th>\n      <td>AFG</td>\n      <td>Asia</td>\n      <td>Afghanistan</td>\n      <td>2020-02-24</td>\n      <td>1.0</td>\n      <td>1.0</td>\n      <td>NaN</td>\n      <td>NaN</td>\n      <td>NaN</td>\n      <td>NaN</td>\n      <td>...</td>\n      <td>1803.987</td>\n      <td>NaN</td>\n      <td>597.029</td>\n      <td>9.59</td>\n      <td>NaN</td>\n      <td>NaN</td>\n      <td>37.746</td>\n      <td>0.5</td>\n      <td>64.83</td>\n      <td>0.498</td>\n    </tr>\n    <tr>\n      <th>1</th>\n      <td>AFG</td>\n      <td>Asia</td>\n      <td>Afghanistan</td>\n      <td>2020-02-25</td>\n      <td>1.0</td>\n      <td>0.0</td>\n      <td>NaN</td>\n      <td>NaN</td>\n      <td>NaN</td>\n      <td>NaN</td>\n      <td>...</td>\n      <td>1803.987</td>\n      <td>NaN</td>\n      <td>597.029</td>\n      <td>9.59</td>\n      <td>NaN</td>\n      <td>NaN</td>\n      <td>37.746</td>\n      <td>0.5</td>\n      <td>64.83</td>\n      <td>0.498</td>\n    </tr>\n    <tr>\n      <th>2</th>\n      <td>AFG</td>\n      <td>Asia</td>\n      <td>Afghanistan</td>\n      <td>2020-02-26</td>\n      <td>1.0</td>\n      <td>0.0</td>\n      <td>NaN</td>\n      <td>NaN</td>\n      <td>NaN</td>\n      <td>NaN</td>\n      <td>...</td>\n      <td>1803.987</td>\n      <td>NaN</td>\n      <td>597.029</td>\n      <td>9.59</td>\n      <td>NaN</td>\n      <td>NaN</td>\n      <td>37.746</td>\n      <td>0.5</td>\n      <td>64.83</td>\n      <td>0.498</td>\n    </tr>\n    <tr>\n      <th>3</th>\n      <td>AFG</td>\n      <td>Asia</td>\n      <td>Afghanistan</td>\n      <td>2020-02-27</td>\n      <td>1.0</td>\n      <td>0.0</td>\n      <td>NaN</td>\n      <td>NaN</td>\n      <td>NaN</td>\n      <td>NaN</td>\n      <td>...</td>\n      <td>1803.987</td>\n      <td>NaN</td>\n      <td>597.029</td>\n      <td>9.59</td>\n      <td>NaN</td>\n      <td>NaN</td>\n      <td>37.746</td>\n      <td>0.5</td>\n      <td>64.83</td>\n      <td>0.498</td>\n    </tr>\n    <tr>\n      <th>4</th>\n      <td>AFG</td>\n      <td>Asia</td>\n      <td>Afghanistan</td>\n      <td>2020-02-28</td>\n      <td>1.0</td>\n      <td>0.0</td>\n      <td>NaN</td>\n      <td>NaN</td>\n      <td>NaN</td>\n      <td>NaN</td>\n      <td>...</td>\n      <td>1803.987</td>\n      <td>NaN</td>\n      <td>597.029</td>\n      <td>9.59</td>\n      <td>NaN</td>\n      <td>NaN</td>\n      <td>37.746</td>\n      <td>0.5</td>\n      <td>64.83</td>\n      <td>0.498</td>\n    </tr>\n  </tbody>\n</table>\n<p>5 rows × 55 columns</p>\n</div>"
     },
     "metadata": {},
     "execution_count": 13
    }
   ],
   "source": [
    "data = pd.read_csv(\"https://covid.ourworldindata.org/data/owid-covid-data.csv\") #Boton derecho y copié la direccion de enlace\n",
    "data.head()"
   ]
  },
  {
   "cell_type": "code",
   "execution_count": 14,
   "metadata": {},
   "outputs": [
    {
     "output_type": "stream",
     "name": "stdout",
     "text": [
      "(1761, 55)\n"
     ]
    },
    {
     "output_type": "execute_result",
     "data": {
      "text/plain": [
       "      iso_code      continent       location        date  total_cases  \\\n",
       "19447      FRA         Europe         France  2020-01-24          2.0   \n",
       "19448      FRA         Europe         France  2020-01-25          3.0   \n",
       "19449      FRA         Europe         France  2020-01-26          3.0   \n",
       "19450      FRA         Europe         France  2020-01-27          3.0   \n",
       "19451      FRA         Europe         France  2020-01-28          4.0   \n",
       "...        ...            ...            ...         ...          ...   \n",
       "58308      USA  North America  United States  2021-01-16   23758855.0   \n",
       "58309      USA  North America  United States  2021-01-17   23936773.0   \n",
       "58310      USA  North America  United States  2021-01-18   24078772.0   \n",
       "58311      USA  North America  United States  2021-01-19   24256028.0   \n",
       "58312      USA  North America  United States  2021-01-20   24438723.0   \n",
       "\n",
       "       new_cases  new_cases_smoothed  total_deaths  new_deaths  \\\n",
       "19447        2.0                 NaN           NaN         NaN   \n",
       "19448        1.0                 NaN           NaN         NaN   \n",
       "19449        0.0                 NaN           NaN         NaN   \n",
       "19450        0.0                 NaN           NaN         NaN   \n",
       "19451        1.0                 NaN           NaN         NaN   \n",
       "...          ...                 ...           ...         ...   \n",
       "58308   202758.0          223582.571      395851.0      3352.0   \n",
       "58309   177918.0          218100.857      397600.0      1749.0   \n",
       "58310   141999.0          207914.429      399003.0      1403.0   \n",
       "58311   177256.0          201033.429      401772.0      2769.0   \n",
       "58312   182695.0          194251.857      406147.0      4375.0   \n",
       "\n",
       "       new_deaths_smoothed  ...  gdp_per_capita  extreme_poverty  \\\n",
       "19447                  NaN  ...       38605.671              NaN   \n",
       "19448                  NaN  ...       38605.671              NaN   \n",
       "19449                  NaN  ...       38605.671              NaN   \n",
       "19450                  NaN  ...       38605.671              NaN   \n",
       "19451                  NaN  ...       38605.671              NaN   \n",
       "...                    ...  ...             ...              ...   \n",
       "58308             3333.571  ...       54225.446              1.2   \n",
       "58309             3323.286  ...       54225.446              1.2   \n",
       "58310             3237.143  ...       54225.446              1.2   \n",
       "58311             2995.286  ...       54225.446              1.2   \n",
       "58312             3054.143  ...       54225.446              1.2   \n",
       "\n",
       "       cardiovasc_death_rate  diabetes_prevalence  female_smokers  \\\n",
       "19447                 86.060                 4.77            30.1   \n",
       "19448                 86.060                 4.77            30.1   \n",
       "19449                 86.060                 4.77            30.1   \n",
       "19450                 86.060                 4.77            30.1   \n",
       "19451                 86.060                 4.77            30.1   \n",
       "...                      ...                  ...             ...   \n",
       "58308                151.089                10.79            19.1   \n",
       "58309                151.089                10.79            19.1   \n",
       "58310                151.089                10.79            19.1   \n",
       "58311                151.089                10.79            19.1   \n",
       "58312                151.089                10.79            19.1   \n",
       "\n",
       "       male_smokers  handwashing_facilities  hospital_beds_per_thousand  \\\n",
       "19447          35.6                     NaN                        5.98   \n",
       "19448          35.6                     NaN                        5.98   \n",
       "19449          35.6                     NaN                        5.98   \n",
       "19450          35.6                     NaN                        5.98   \n",
       "19451          35.6                     NaN                        5.98   \n",
       "...             ...                     ...                         ...   \n",
       "58308          24.6                     NaN                        2.77   \n",
       "58309          24.6                     NaN                        2.77   \n",
       "58310          24.6                     NaN                        2.77   \n",
       "58311          24.6                     NaN                        2.77   \n",
       "58312          24.6                     NaN                        2.77   \n",
       "\n",
       "       life_expectancy  human_development_index  \n",
       "19447            82.66                    0.901  \n",
       "19448            82.66                    0.901  \n",
       "19449            82.66                    0.901  \n",
       "19450            82.66                    0.901  \n",
       "19451            82.66                    0.901  \n",
       "...                ...                      ...  \n",
       "58308            78.86                    0.924  \n",
       "58309            78.86                    0.924  \n",
       "58310            78.86                    0.924  \n",
       "58311            78.86                    0.924  \n",
       "58312            78.86                    0.924  \n",
       "\n",
       "[1761 rows x 55 columns]"
      ],
      "text/html": "<div>\n<style scoped>\n    .dataframe tbody tr th:only-of-type {\n        vertical-align: middle;\n    }\n\n    .dataframe tbody tr th {\n        vertical-align: top;\n    }\n\n    .dataframe thead th {\n        text-align: right;\n    }\n</style>\n<table border=\"1\" class=\"dataframe\">\n  <thead>\n    <tr style=\"text-align: right;\">\n      <th></th>\n      <th>iso_code</th>\n      <th>continent</th>\n      <th>location</th>\n      <th>date</th>\n      <th>total_cases</th>\n      <th>new_cases</th>\n      <th>new_cases_smoothed</th>\n      <th>total_deaths</th>\n      <th>new_deaths</th>\n      <th>new_deaths_smoothed</th>\n      <th>...</th>\n      <th>gdp_per_capita</th>\n      <th>extreme_poverty</th>\n      <th>cardiovasc_death_rate</th>\n      <th>diabetes_prevalence</th>\n      <th>female_smokers</th>\n      <th>male_smokers</th>\n      <th>handwashing_facilities</th>\n      <th>hospital_beds_per_thousand</th>\n      <th>life_expectancy</th>\n      <th>human_development_index</th>\n    </tr>\n  </thead>\n  <tbody>\n    <tr>\n      <th>19447</th>\n      <td>FRA</td>\n      <td>Europe</td>\n      <td>France</td>\n      <td>2020-01-24</td>\n      <td>2.0</td>\n      <td>2.0</td>\n      <td>NaN</td>\n      <td>NaN</td>\n      <td>NaN</td>\n      <td>NaN</td>\n      <td>...</td>\n      <td>38605.671</td>\n      <td>NaN</td>\n      <td>86.060</td>\n      <td>4.77</td>\n      <td>30.1</td>\n      <td>35.6</td>\n      <td>NaN</td>\n      <td>5.98</td>\n      <td>82.66</td>\n      <td>0.901</td>\n    </tr>\n    <tr>\n      <th>19448</th>\n      <td>FRA</td>\n      <td>Europe</td>\n      <td>France</td>\n      <td>2020-01-25</td>\n      <td>3.0</td>\n      <td>1.0</td>\n      <td>NaN</td>\n      <td>NaN</td>\n      <td>NaN</td>\n      <td>NaN</td>\n      <td>...</td>\n      <td>38605.671</td>\n      <td>NaN</td>\n      <td>86.060</td>\n      <td>4.77</td>\n      <td>30.1</td>\n      <td>35.6</td>\n      <td>NaN</td>\n      <td>5.98</td>\n      <td>82.66</td>\n      <td>0.901</td>\n    </tr>\n    <tr>\n      <th>19449</th>\n      <td>FRA</td>\n      <td>Europe</td>\n      <td>France</td>\n      <td>2020-01-26</td>\n      <td>3.0</td>\n      <td>0.0</td>\n      <td>NaN</td>\n      <td>NaN</td>\n      <td>NaN</td>\n      <td>NaN</td>\n      <td>...</td>\n      <td>38605.671</td>\n      <td>NaN</td>\n      <td>86.060</td>\n      <td>4.77</td>\n      <td>30.1</td>\n      <td>35.6</td>\n      <td>NaN</td>\n      <td>5.98</td>\n      <td>82.66</td>\n      <td>0.901</td>\n    </tr>\n    <tr>\n      <th>19450</th>\n      <td>FRA</td>\n      <td>Europe</td>\n      <td>France</td>\n      <td>2020-01-27</td>\n      <td>3.0</td>\n      <td>0.0</td>\n      <td>NaN</td>\n      <td>NaN</td>\n      <td>NaN</td>\n      <td>NaN</td>\n      <td>...</td>\n      <td>38605.671</td>\n      <td>NaN</td>\n      <td>86.060</td>\n      <td>4.77</td>\n      <td>30.1</td>\n      <td>35.6</td>\n      <td>NaN</td>\n      <td>5.98</td>\n      <td>82.66</td>\n      <td>0.901</td>\n    </tr>\n    <tr>\n      <th>19451</th>\n      <td>FRA</td>\n      <td>Europe</td>\n      <td>France</td>\n      <td>2020-01-28</td>\n      <td>4.0</td>\n      <td>1.0</td>\n      <td>NaN</td>\n      <td>NaN</td>\n      <td>NaN</td>\n      <td>NaN</td>\n      <td>...</td>\n      <td>38605.671</td>\n      <td>NaN</td>\n      <td>86.060</td>\n      <td>4.77</td>\n      <td>30.1</td>\n      <td>35.6</td>\n      <td>NaN</td>\n      <td>5.98</td>\n      <td>82.66</td>\n      <td>0.901</td>\n    </tr>\n    <tr>\n      <th>...</th>\n      <td>...</td>\n      <td>...</td>\n      <td>...</td>\n      <td>...</td>\n      <td>...</td>\n      <td>...</td>\n      <td>...</td>\n      <td>...</td>\n      <td>...</td>\n      <td>...</td>\n      <td>...</td>\n      <td>...</td>\n      <td>...</td>\n      <td>...</td>\n      <td>...</td>\n      <td>...</td>\n      <td>...</td>\n      <td>...</td>\n      <td>...</td>\n      <td>...</td>\n      <td>...</td>\n    </tr>\n    <tr>\n      <th>58308</th>\n      <td>USA</td>\n      <td>North America</td>\n      <td>United States</td>\n      <td>2021-01-16</td>\n      <td>23758855.0</td>\n      <td>202758.0</td>\n      <td>223582.571</td>\n      <td>395851.0</td>\n      <td>3352.0</td>\n      <td>3333.571</td>\n      <td>...</td>\n      <td>54225.446</td>\n      <td>1.2</td>\n      <td>151.089</td>\n      <td>10.79</td>\n      <td>19.1</td>\n      <td>24.6</td>\n      <td>NaN</td>\n      <td>2.77</td>\n      <td>78.86</td>\n      <td>0.924</td>\n    </tr>\n    <tr>\n      <th>58309</th>\n      <td>USA</td>\n      <td>North America</td>\n      <td>United States</td>\n      <td>2021-01-17</td>\n      <td>23936773.0</td>\n      <td>177918.0</td>\n      <td>218100.857</td>\n      <td>397600.0</td>\n      <td>1749.0</td>\n      <td>3323.286</td>\n      <td>...</td>\n      <td>54225.446</td>\n      <td>1.2</td>\n      <td>151.089</td>\n      <td>10.79</td>\n      <td>19.1</td>\n      <td>24.6</td>\n      <td>NaN</td>\n      <td>2.77</td>\n      <td>78.86</td>\n      <td>0.924</td>\n    </tr>\n    <tr>\n      <th>58310</th>\n      <td>USA</td>\n      <td>North America</td>\n      <td>United States</td>\n      <td>2021-01-18</td>\n      <td>24078772.0</td>\n      <td>141999.0</td>\n      <td>207914.429</td>\n      <td>399003.0</td>\n      <td>1403.0</td>\n      <td>3237.143</td>\n      <td>...</td>\n      <td>54225.446</td>\n      <td>1.2</td>\n      <td>151.089</td>\n      <td>10.79</td>\n      <td>19.1</td>\n      <td>24.6</td>\n      <td>NaN</td>\n      <td>2.77</td>\n      <td>78.86</td>\n      <td>0.924</td>\n    </tr>\n    <tr>\n      <th>58311</th>\n      <td>USA</td>\n      <td>North America</td>\n      <td>United States</td>\n      <td>2021-01-19</td>\n      <td>24256028.0</td>\n      <td>177256.0</td>\n      <td>201033.429</td>\n      <td>401772.0</td>\n      <td>2769.0</td>\n      <td>2995.286</td>\n      <td>...</td>\n      <td>54225.446</td>\n      <td>1.2</td>\n      <td>151.089</td>\n      <td>10.79</td>\n      <td>19.1</td>\n      <td>24.6</td>\n      <td>NaN</td>\n      <td>2.77</td>\n      <td>78.86</td>\n      <td>0.924</td>\n    </tr>\n    <tr>\n      <th>58312</th>\n      <td>USA</td>\n      <td>North America</td>\n      <td>United States</td>\n      <td>2021-01-20</td>\n      <td>24438723.0</td>\n      <td>182695.0</td>\n      <td>194251.857</td>\n      <td>406147.0</td>\n      <td>4375.0</td>\n      <td>3054.143</td>\n      <td>...</td>\n      <td>54225.446</td>\n      <td>1.2</td>\n      <td>151.089</td>\n      <td>10.79</td>\n      <td>19.1</td>\n      <td>24.6</td>\n      <td>NaN</td>\n      <td>2.77</td>\n      <td>78.86</td>\n      <td>0.924</td>\n    </tr>\n  </tbody>\n</table>\n<p>1761 rows × 55 columns</p>\n</div>"
     },
     "metadata": {},
     "execution_count": 14
    }
   ],
   "source": [
    "#Selecting assigned group B countries\n",
    "data_sc = data[(data[\"location\"] == \"India\") | (data[\"location\"] == \"Peru\") | (data[\"location\"] == \"United States\") | (data[\"location\"] == \"France\") | (data[\"location\"] == \"Spain\")]\n",
    "print(data_sc.shape)\n",
    "data_sc"
   ]
  },
  {
   "cell_type": "code",
   "execution_count": 15,
   "metadata": {},
   "outputs": [
    {
     "output_type": "execute_result",
     "data": {
      "text/plain": [
       "      iso_code      continent       location        date  total_cases  \\\n",
       "19447      FRA         Europe         France  2020-01-24          2.0   \n",
       "19448      FRA         Europe         France  2020-01-25          3.0   \n",
       "19449      FRA         Europe         France  2020-01-26          3.0   \n",
       "19450      FRA         Europe         France  2020-01-27          3.0   \n",
       "19451      FRA         Europe         France  2020-01-28          4.0   \n",
       "...        ...            ...            ...         ...          ...   \n",
       "58308      USA  North America  United States  2021-01-16   23758855.0   \n",
       "58309      USA  North America  United States  2021-01-17   23936773.0   \n",
       "58310      USA  North America  United States  2021-01-18   24078772.0   \n",
       "58311      USA  North America  United States  2021-01-19   24256028.0   \n",
       "58312      USA  North America  United States  2021-01-20   24438723.0   \n",
       "\n",
       "       total_cases_per_million  new_cases_smoothed  \\\n",
       "19447                    0.031                 NaN   \n",
       "19448                    0.046                 NaN   \n",
       "19449                    0.046                 NaN   \n",
       "19450                    0.046                 NaN   \n",
       "19451                    0.061                 NaN   \n",
       "...                        ...                 ...   \n",
       "58308                71778.444          223582.571   \n",
       "58309                72315.956          218100.857   \n",
       "58310                72744.953          207914.429   \n",
       "58311                73280.465          201033.429   \n",
       "58312                73832.410          194251.857   \n",
       "\n",
       "       new_cases_smoothed_per_million  new_deaths_smoothed  \\\n",
       "19447                             NaN                  NaN   \n",
       "19448                             NaN                  NaN   \n",
       "19449                             NaN                  NaN   \n",
       "19450                             NaN                  NaN   \n",
       "19451                             NaN                  NaN   \n",
       "...                               ...                  ...   \n",
       "58308                         675.471             3333.571   \n",
       "58309                         658.910             3323.286   \n",
       "58310                         628.135             3237.143   \n",
       "58311                         607.347             2995.286   \n",
       "58312                         586.859             3054.143   \n",
       "\n",
       "       new_deaths_smoothed_per_million  total_deaths  \\\n",
       "19447                              NaN           NaN   \n",
       "19448                              NaN           NaN   \n",
       "19449                              NaN           NaN   \n",
       "19450                              NaN           NaN   \n",
       "19451                              NaN           NaN   \n",
       "...                                ...           ...   \n",
       "58308                           10.071      395851.0   \n",
       "58309                           10.040      397600.0   \n",
       "58310                            9.780      399003.0   \n",
       "58311                            9.049      401772.0   \n",
       "58312                            9.227      406147.0   \n",
       "\n",
       "       total_deaths_per_million  life_expectancy  stringency_index  new_deaths  \n",
       "19447                       NaN            82.66             11.11         NaN  \n",
       "19448                       NaN            82.66             11.11         NaN  \n",
       "19449                       NaN            82.66             11.11         NaN  \n",
       "19450                       NaN            82.66             11.11         NaN  \n",
       "19451                       NaN            82.66             11.11         NaN  \n",
       "...                         ...              ...               ...         ...  \n",
       "58308                  1195.915            78.86             71.76      3352.0  \n",
       "58309                  1201.199            78.86             71.76      1749.0  \n",
       "58310                  1205.437            78.86             71.76      1403.0  \n",
       "58311                  1213.803            78.86               NaN      2769.0  \n",
       "58312                  1227.020            78.86               NaN      4375.0  \n",
       "\n",
       "[1761 rows x 15 columns]"
      ],
      "text/html": "<div>\n<style scoped>\n    .dataframe tbody tr th:only-of-type {\n        vertical-align: middle;\n    }\n\n    .dataframe tbody tr th {\n        vertical-align: top;\n    }\n\n    .dataframe thead th {\n        text-align: right;\n    }\n</style>\n<table border=\"1\" class=\"dataframe\">\n  <thead>\n    <tr style=\"text-align: right;\">\n      <th></th>\n      <th>iso_code</th>\n      <th>continent</th>\n      <th>location</th>\n      <th>date</th>\n      <th>total_cases</th>\n      <th>total_cases_per_million</th>\n      <th>new_cases_smoothed</th>\n      <th>new_cases_smoothed_per_million</th>\n      <th>new_deaths_smoothed</th>\n      <th>new_deaths_smoothed_per_million</th>\n      <th>total_deaths</th>\n      <th>total_deaths_per_million</th>\n      <th>life_expectancy</th>\n      <th>stringency_index</th>\n      <th>new_deaths</th>\n    </tr>\n  </thead>\n  <tbody>\n    <tr>\n      <th>19447</th>\n      <td>FRA</td>\n      <td>Europe</td>\n      <td>France</td>\n      <td>2020-01-24</td>\n      <td>2.0</td>\n      <td>0.031</td>\n      <td>NaN</td>\n      <td>NaN</td>\n      <td>NaN</td>\n      <td>NaN</td>\n      <td>NaN</td>\n      <td>NaN</td>\n      <td>82.66</td>\n      <td>11.11</td>\n      <td>NaN</td>\n    </tr>\n    <tr>\n      <th>19448</th>\n      <td>FRA</td>\n      <td>Europe</td>\n      <td>France</td>\n      <td>2020-01-25</td>\n      <td>3.0</td>\n      <td>0.046</td>\n      <td>NaN</td>\n      <td>NaN</td>\n      <td>NaN</td>\n      <td>NaN</td>\n      <td>NaN</td>\n      <td>NaN</td>\n      <td>82.66</td>\n      <td>11.11</td>\n      <td>NaN</td>\n    </tr>\n    <tr>\n      <th>19449</th>\n      <td>FRA</td>\n      <td>Europe</td>\n      <td>France</td>\n      <td>2020-01-26</td>\n      <td>3.0</td>\n      <td>0.046</td>\n      <td>NaN</td>\n      <td>NaN</td>\n      <td>NaN</td>\n      <td>NaN</td>\n      <td>NaN</td>\n      <td>NaN</td>\n      <td>82.66</td>\n      <td>11.11</td>\n      <td>NaN</td>\n    </tr>\n    <tr>\n      <th>19450</th>\n      <td>FRA</td>\n      <td>Europe</td>\n      <td>France</td>\n      <td>2020-01-27</td>\n      <td>3.0</td>\n      <td>0.046</td>\n      <td>NaN</td>\n      <td>NaN</td>\n      <td>NaN</td>\n      <td>NaN</td>\n      <td>NaN</td>\n      <td>NaN</td>\n      <td>82.66</td>\n      <td>11.11</td>\n      <td>NaN</td>\n    </tr>\n    <tr>\n      <th>19451</th>\n      <td>FRA</td>\n      <td>Europe</td>\n      <td>France</td>\n      <td>2020-01-28</td>\n      <td>4.0</td>\n      <td>0.061</td>\n      <td>NaN</td>\n      <td>NaN</td>\n      <td>NaN</td>\n      <td>NaN</td>\n      <td>NaN</td>\n      <td>NaN</td>\n      <td>82.66</td>\n      <td>11.11</td>\n      <td>NaN</td>\n    </tr>\n    <tr>\n      <th>...</th>\n      <td>...</td>\n      <td>...</td>\n      <td>...</td>\n      <td>...</td>\n      <td>...</td>\n      <td>...</td>\n      <td>...</td>\n      <td>...</td>\n      <td>...</td>\n      <td>...</td>\n      <td>...</td>\n      <td>...</td>\n      <td>...</td>\n      <td>...</td>\n      <td>...</td>\n    </tr>\n    <tr>\n      <th>58308</th>\n      <td>USA</td>\n      <td>North America</td>\n      <td>United States</td>\n      <td>2021-01-16</td>\n      <td>23758855.0</td>\n      <td>71778.444</td>\n      <td>223582.571</td>\n      <td>675.471</td>\n      <td>3333.571</td>\n      <td>10.071</td>\n      <td>395851.0</td>\n      <td>1195.915</td>\n      <td>78.86</td>\n      <td>71.76</td>\n      <td>3352.0</td>\n    </tr>\n    <tr>\n      <th>58309</th>\n      <td>USA</td>\n      <td>North America</td>\n      <td>United States</td>\n      <td>2021-01-17</td>\n      <td>23936773.0</td>\n      <td>72315.956</td>\n      <td>218100.857</td>\n      <td>658.910</td>\n      <td>3323.286</td>\n      <td>10.040</td>\n      <td>397600.0</td>\n      <td>1201.199</td>\n      <td>78.86</td>\n      <td>71.76</td>\n      <td>1749.0</td>\n    </tr>\n    <tr>\n      <th>58310</th>\n      <td>USA</td>\n      <td>North America</td>\n      <td>United States</td>\n      <td>2021-01-18</td>\n      <td>24078772.0</td>\n      <td>72744.953</td>\n      <td>207914.429</td>\n      <td>628.135</td>\n      <td>3237.143</td>\n      <td>9.780</td>\n      <td>399003.0</td>\n      <td>1205.437</td>\n      <td>78.86</td>\n      <td>71.76</td>\n      <td>1403.0</td>\n    </tr>\n    <tr>\n      <th>58311</th>\n      <td>USA</td>\n      <td>North America</td>\n      <td>United States</td>\n      <td>2021-01-19</td>\n      <td>24256028.0</td>\n      <td>73280.465</td>\n      <td>201033.429</td>\n      <td>607.347</td>\n      <td>2995.286</td>\n      <td>9.049</td>\n      <td>401772.0</td>\n      <td>1213.803</td>\n      <td>78.86</td>\n      <td>NaN</td>\n      <td>2769.0</td>\n    </tr>\n    <tr>\n      <th>58312</th>\n      <td>USA</td>\n      <td>North America</td>\n      <td>United States</td>\n      <td>2021-01-20</td>\n      <td>24438723.0</td>\n      <td>73832.410</td>\n      <td>194251.857</td>\n      <td>586.859</td>\n      <td>3054.143</td>\n      <td>9.227</td>\n      <td>406147.0</td>\n      <td>1227.020</td>\n      <td>78.86</td>\n      <td>NaN</td>\n      <td>4375.0</td>\n    </tr>\n  </tbody>\n</table>\n<p>1761 rows × 15 columns</p>\n</div>"
     },
     "metadata": {},
     "execution_count": 15
    }
   ],
   "source": [
    "#Selecting the columns to explore and analyse.\n",
    "data_final = data_sc[[\"iso_code\",\"continent\",\"location\",\"date\",\"total_cases\",\"total_cases_per_million\",\"new_cases_smoothed\",\"new_cases_smoothed_per_million\",\"new_deaths_smoothed\",\"new_deaths_smoothed_per_million\",\"total_deaths\",\"total_deaths_per_million\",\"life_expectancy\",\"stringency_index\",\"new_deaths\"]]\n",
    "data_final"
   ]
  },
  {
   "cell_type": "code",
   "execution_count": 16,
   "metadata": {},
   "outputs": [],
   "source": [
    "#Changing date column to datatime\n",
    "changing_dates(df=data_final,name_column=\"date\")  "
   ]
  },
  {
   "cell_type": "code",
   "execution_count": 17,
   "metadata": {},
   "outputs": [
    {
     "output_type": "execute_result",
     "data": {
      "text/plain": [
       "location    France  India   Peru  Spain  United States\n",
       "date                                                  \n",
       "2020-01-22     NaN    NaN    NaN    NaN            NaN\n",
       "2020-01-23     NaN    NaN    NaN    NaN            NaN\n",
       "2020-01-24     NaN    NaN    NaN    NaN            NaN\n",
       "2020-01-25     NaN    NaN    NaN    NaN            NaN\n",
       "2020-01-26     NaN    NaN    NaN    NaN            NaN\n",
       "...            ...    ...    ...    ...            ...\n",
       "2021-01-16     3.0  181.0    0.0    0.0         3352.0\n",
       "2021-01-17   329.0  145.0  116.0    0.0         1749.0\n",
       "2021-01-18   404.0  137.0    0.0  455.0         1403.0\n",
       "2021-01-19   656.0  162.0    0.0  404.0         2769.0\n",
       "2021-01-20   310.0  151.0  274.0  464.0         4375.0\n",
       "\n",
       "[365 rows x 5 columns]"
      ],
      "text/html": "<div>\n<style scoped>\n    .dataframe tbody tr th:only-of-type {\n        vertical-align: middle;\n    }\n\n    .dataframe tbody tr th {\n        vertical-align: top;\n    }\n\n    .dataframe thead th {\n        text-align: right;\n    }\n</style>\n<table border=\"1\" class=\"dataframe\">\n  <thead>\n    <tr style=\"text-align: right;\">\n      <th>location</th>\n      <th>France</th>\n      <th>India</th>\n      <th>Peru</th>\n      <th>Spain</th>\n      <th>United States</th>\n    </tr>\n    <tr>\n      <th>date</th>\n      <th></th>\n      <th></th>\n      <th></th>\n      <th></th>\n      <th></th>\n    </tr>\n  </thead>\n  <tbody>\n    <tr>\n      <th>2020-01-22</th>\n      <td>NaN</td>\n      <td>NaN</td>\n      <td>NaN</td>\n      <td>NaN</td>\n      <td>NaN</td>\n    </tr>\n    <tr>\n      <th>2020-01-23</th>\n      <td>NaN</td>\n      <td>NaN</td>\n      <td>NaN</td>\n      <td>NaN</td>\n      <td>NaN</td>\n    </tr>\n    <tr>\n      <th>2020-01-24</th>\n      <td>NaN</td>\n      <td>NaN</td>\n      <td>NaN</td>\n      <td>NaN</td>\n      <td>NaN</td>\n    </tr>\n    <tr>\n      <th>2020-01-25</th>\n      <td>NaN</td>\n      <td>NaN</td>\n      <td>NaN</td>\n      <td>NaN</td>\n      <td>NaN</td>\n    </tr>\n    <tr>\n      <th>2020-01-26</th>\n      <td>NaN</td>\n      <td>NaN</td>\n      <td>NaN</td>\n      <td>NaN</td>\n      <td>NaN</td>\n    </tr>\n    <tr>\n      <th>...</th>\n      <td>...</td>\n      <td>...</td>\n      <td>...</td>\n      <td>...</td>\n      <td>...</td>\n    </tr>\n    <tr>\n      <th>2021-01-16</th>\n      <td>3.0</td>\n      <td>181.0</td>\n      <td>0.0</td>\n      <td>0.0</td>\n      <td>3352.0</td>\n    </tr>\n    <tr>\n      <th>2021-01-17</th>\n      <td>329.0</td>\n      <td>145.0</td>\n      <td>116.0</td>\n      <td>0.0</td>\n      <td>1749.0</td>\n    </tr>\n    <tr>\n      <th>2021-01-18</th>\n      <td>404.0</td>\n      <td>137.0</td>\n      <td>0.0</td>\n      <td>455.0</td>\n      <td>1403.0</td>\n    </tr>\n    <tr>\n      <th>2021-01-19</th>\n      <td>656.0</td>\n      <td>162.0</td>\n      <td>0.0</td>\n      <td>404.0</td>\n      <td>2769.0</td>\n    </tr>\n    <tr>\n      <th>2021-01-20</th>\n      <td>310.0</td>\n      <td>151.0</td>\n      <td>274.0</td>\n      <td>464.0</td>\n      <td>4375.0</td>\n    </tr>\n  </tbody>\n</table>\n<p>365 rows × 5 columns</p>\n</div>"
     },
     "metadata": {},
     "execution_count": 17
    }
   ],
   "source": [
    "#Checking that NaN values are in all the countries in the selected dates.\n",
    "df_per_country = pd.pivot_table(data_sc,values=\"new_deaths\",index=\"date\",columns=\"location\",aggfunc=np.mean,dropna=False)\n",
    "df_per_country"
   ]
  }
 ]
}